{
 "cells": [
  {
   "cell_type": "code",
   "execution_count": 1,
   "metadata": {
    "trusted": true
   },
   "outputs": [],
   "source": [
    "import pandas as pd  \n",
    "import numpy as np \n",
    "import matplotlib.pyplot as plt \n",
    "import seaborn as sns \n",
    "from scipy import stats"
   ]
  },
  {
   "cell_type": "code",
   "execution_count": 2,
   "metadata": {
    "trusted": true
   },
   "outputs": [],
   "source": [
    "\n",
    "df = pd.read_csv('games.csv')\n"
   ]
  },
  {
   "cell_type": "code",
   "execution_count": 3,
   "metadata": {},
   "outputs": [
    {
     "name": "stdout",
     "output_type": "stream",
     "text": [
      "<class 'pandas.core.frame.DataFrame'>\n",
      "RangeIndex: 16715 entries, 0 to 16714\n",
      "Data columns (total 11 columns):\n",
      " #   Column           Non-Null Count  Dtype  \n",
      "---  ------           --------------  -----  \n",
      " 0   Name             16713 non-null  object \n",
      " 1   Platform         16715 non-null  object \n",
      " 2   Year_of_Release  16446 non-null  float64\n",
      " 3   Genre            16713 non-null  object \n",
      " 4   NA_sales         16715 non-null  float64\n",
      " 5   EU_sales         16715 non-null  float64\n",
      " 6   JP_sales         16715 non-null  float64\n",
      " 7   Other_sales      16715 non-null  float64\n",
      " 8   Critic_Score     8137 non-null   float64\n",
      " 9   User_Score       10014 non-null  object \n",
      " 10  Rating           9949 non-null   object \n",
      "dtypes: float64(6), object(5)\n",
      "memory usage: 1.4+ MB\n",
      "None\n"
     ]
    }
   ],
   "source": [
    "print(df.info())"
   ]
  },
  {
   "cell_type": "code",
   "execution_count": 4,
   "metadata": {
    "trusted": true
   },
   "outputs": [
    {
     "name": "stdout",
     "output_type": "stream",
     "text": [
      "valores duplicados 0\n"
     ]
    }
   ],
   "source": [
    "df_duplicados = df.duplicated().sum()\n",
    "print(f'valores duplicados {df_duplicados}')"
   ]
  },
  {
   "cell_type": "code",
   "execution_count": 5,
   "metadata": {
    "trusted": true
   },
   "outputs": [
    {
     "name": "stdout",
     "output_type": "stream",
     "text": [
      "valores nulos \n",
      "\n",
      "Name                  2\n",
      "Platform              0\n",
      "Year_of_Release     269\n",
      "Genre                 2\n",
      "NA_sales              0\n",
      "EU_sales              0\n",
      "JP_sales              0\n",
      "Other_sales           0\n",
      "Critic_Score       8578\n",
      "User_Score         6701\n",
      "Rating             6766\n",
      "dtype: int64\n"
     ]
    }
   ],
   "source": [
    "df_nulos = df.isna().sum()\n",
    "print(f'valores nulos \\n\\n{df_nulos}')"
   ]
  },
  {
   "cell_type": "code",
   "execution_count": 6,
   "metadata": {
    "trusted": true
   },
   "outputs": [
    {
     "name": "stdout",
     "output_type": "stream",
     "text": [
      "Index(['name', 'platform', 'year_of_release', 'genre', 'na_sales', 'eu_sales',\n",
      "       'jp_sales', 'other_sales', 'critic_score', 'user_score', 'rating'],\n",
      "      dtype='object')\n"
     ]
    }
   ],
   "source": [
    "df.columns = df.columns.str.lower()\n",
    "print(df.columns)"
   ]
  },
  {
   "cell_type": "code",
   "execution_count": 7,
   "metadata": {
    "trusted": true
   },
   "outputs": [
    {
     "name": "stderr",
     "output_type": "stream",
     "text": [
      "C:\\Users\\Criz1\\AppData\\Local\\Temp\\ipykernel_18232\\1920213142.py:1: FutureWarning: A value is trying to be set on a copy of a DataFrame or Series through chained assignment using an inplace method.\n",
      "The behavior will change in pandas 3.0. This inplace method will never work because the intermediate object on which we are setting values always behaves as a copy.\n",
      "\n",
      "For example, when doing 'df[col].method(value, inplace=True)', try using 'df.method({col: value}, inplace=True)' or df[col] = df[col].method(value) instead, to perform the operation inplace on the original object.\n",
      "\n",
      "\n",
      "  df['name'].fillna('desconocidos',inplace=True)\n"
     ]
    }
   ],
   "source": [
    "df['name'].fillna('desconocidos',inplace=True)\n"
   ]
  },
  {
   "cell_type": "markdown",
   "metadata": {},
   "source": [
    "reemplazamos estos valoros por que solo el nombre no esta en nustros datos, si llegaramos a eliminar este dato podria afectar e otros datos importantes donde si tenemos relleno de informacion "
   ]
  },
  {
   "cell_type": "code",
   "execution_count": 8,
   "metadata": {
    "trusted": true
   },
   "outputs": [],
   "source": [
    "df['year_of_release']= df['year_of_release'].fillna(0).astype('int')"
   ]
  },
  {
   "cell_type": "markdown",
   "metadata": {},
   "source": [
    "year of release estaba marcad como un float ya que ese basa en fechas lo cambiamos a int para poder trabajar de formaa mas facil sin que tuvieramos problemas con ellos en algunas modificaciones "
   ]
  },
  {
   "cell_type": "code",
   "execution_count": 9,
   "metadata": {
    "trusted": true
   },
   "outputs": [
    {
     "name": "stderr",
     "output_type": "stream",
     "text": [
      "C:\\Users\\Criz1\\AppData\\Local\\Temp\\ipykernel_18232\\2731932136.py:1: FutureWarning: A value is trying to be set on a copy of a DataFrame or Series through chained assignment using an inplace method.\n",
      "The behavior will change in pandas 3.0. This inplace method will never work because the intermediate object on which we are setting values always behaves as a copy.\n",
      "\n",
      "For example, when doing 'df[col].method(value, inplace=True)', try using 'df.method({col: value}, inplace=True)' or df[col] = df[col].method(value) instead, to perform the operation inplace on the original object.\n",
      "\n",
      "\n",
      "  df['genre'].fillna('Genero desconocido', inplace=True)\n"
     ]
    }
   ],
   "source": [
    "df['genre'].fillna('Genero desconocido', inplace=True)"
   ]
  },
  {
   "cell_type": "markdown",
   "metadata": {},
   "source": [
    "los generos de igual modo influyen aun que no haya un dato conciso puede que al eliminar esto le restemos valor a datos importante "
   ]
  },
  {
   "cell_type": "code",
   "execution_count": 10,
   "metadata": {
    "trusted": true
   },
   "outputs": [
    {
     "name": "stderr",
     "output_type": "stream",
     "text": [
      "C:\\Users\\Criz1\\AppData\\Local\\Temp\\ipykernel_18232\\1330541897.py:1: FutureWarning: A value is trying to be set on a copy of a DataFrame or Series through chained assignment using an inplace method.\n",
      "The behavior will change in pandas 3.0. This inplace method will never work because the intermediate object on which we are setting values always behaves as a copy.\n",
      "\n",
      "For example, when doing 'df[col].method(value, inplace=True)', try using 'df.method({col: value}, inplace=True)' or df[col] = df[col].method(value) instead, to perform the operation inplace on the original object.\n",
      "\n",
      "\n",
      "  df['user_score'].replace('tbd', np.nan, inplace=True)\n"
     ]
    }
   ],
   "source": [
    "df['user_score'].replace('tbd', np.nan, inplace=True)\n",
    "df['user_score'] = df['user_score'].astype('float')"
   ]
  },
  {
   "cell_type": "markdown",
   "metadata": {},
   "source": [
    "user score se cambio a flotante porque nos basamos a calificaciones cuyos puntajes pueden tener decimales que afectan de forma importante a la hora de tomar  en cuenta en algun momento la columna de user score ,un detalle tambien seria el \"tbd\" por la  razon de que es una calificacion no podemos solo reemplazar con 0 asi que los dejamos en valores nulos hasta que se determine su calificacion para no afectar los datos despues.  "
   ]
  },
  {
   "cell_type": "code",
   "execution_count": 11,
   "metadata": {
    "trusted": true
   },
   "outputs": [
    {
     "name": "stderr",
     "output_type": "stream",
     "text": [
      "C:\\Users\\Criz1\\AppData\\Local\\Temp\\ipykernel_18232\\2452144407.py:1: FutureWarning: A value is trying to be set on a copy of a DataFrame or Series through chained assignment using an inplace method.\n",
      "The behavior will change in pandas 3.0. This inplace method will never work because the intermediate object on which we are setting values always behaves as a copy.\n",
      "\n",
      "For example, when doing 'df[col].method(value, inplace=True)', try using 'df.method({col: value}, inplace=True)' or df[col] = df[col].method(value) instead, to perform the operation inplace on the original object.\n",
      "\n",
      "\n",
      "  df['rating'].fillna('rating desconocido', inplace=True)\n"
     ]
    }
   ],
   "source": [
    "df['rating'].fillna('rating desconocido', inplace=True)"
   ]
  },
  {
   "cell_type": "markdown",
   "metadata": {},
   "source": [
    "no podemos eliminar una fila llena de datos relevantes por solo faltar el rating ay puede que este juego no sea valorado aun asi que lo mantendremos como desconocido para que no afecte en su eliminacion en otros factores\n",
    "\n",
    "puede que haya valore ausentes por la falta de la valoracion en ratings ya sea por la fecha de salida de un videojugo y  tambien por la falta de registros en los nombres y se les haya atribuido una venta sin un registro previo "
   ]
  },
  {
   "cell_type": "code",
   "execution_count": 12,
   "metadata": {
    "trusted": true
   },
   "outputs": [],
   "source": [
    "df['total_sales'] = df[['jp_sales','eu_sales','na_sales', 'other_sales']].sum(axis=1)"
   ]
  },
  {
   "cell_type": "markdown",
   "metadata": {},
   "source": [
    "aqui tomaremos las venteas totales de todas las regiones para tener una visualizacion mas concreta de nuestras ventas por un videojuego "
   ]
  },
  {
   "cell_type": "code",
   "execution_count": 13,
   "metadata": {
    "trusted": true
   },
   "outputs": [
    {
     "data": {
      "text/html": [
       "<div>\n",
       "<style scoped>\n",
       "    .dataframe tbody tr th:only-of-type {\n",
       "        vertical-align: middle;\n",
       "    }\n",
       "\n",
       "    .dataframe tbody tr th {\n",
       "        vertical-align: top;\n",
       "    }\n",
       "\n",
       "    .dataframe thead th {\n",
       "        text-align: right;\n",
       "    }\n",
       "</style>\n",
       "<table border=\"1\" class=\"dataframe\">\n",
       "  <thead>\n",
       "    <tr style=\"text-align: right;\">\n",
       "      <th></th>\n",
       "      <th>year_of_release</th>\n",
       "      <th>number_of_videogames</th>\n",
       "    </tr>\n",
       "  </thead>\n",
       "  <tbody>\n",
       "    <tr>\n",
       "      <th>0</th>\n",
       "      <td>1980</td>\n",
       "      <td>9</td>\n",
       "    </tr>\n",
       "    <tr>\n",
       "      <th>1</th>\n",
       "      <td>1984</td>\n",
       "      <td>14</td>\n",
       "    </tr>\n",
       "    <tr>\n",
       "      <th>2</th>\n",
       "      <td>1985</td>\n",
       "      <td>14</td>\n",
       "    </tr>\n",
       "    <tr>\n",
       "      <th>3</th>\n",
       "      <td>1988</td>\n",
       "      <td>15</td>\n",
       "    </tr>\n",
       "    <tr>\n",
       "      <th>4</th>\n",
       "      <td>1987</td>\n",
       "      <td>16</td>\n",
       "    </tr>\n",
       "    <tr>\n",
       "      <th>5</th>\n",
       "      <td>1990</td>\n",
       "      <td>16</td>\n",
       "    </tr>\n",
       "    <tr>\n",
       "      <th>6</th>\n",
       "      <td>1983</td>\n",
       "      <td>17</td>\n",
       "    </tr>\n",
       "    <tr>\n",
       "      <th>7</th>\n",
       "      <td>1989</td>\n",
       "      <td>17</td>\n",
       "    </tr>\n",
       "    <tr>\n",
       "      <th>8</th>\n",
       "      <td>1986</td>\n",
       "      <td>21</td>\n",
       "    </tr>\n",
       "    <tr>\n",
       "      <th>9</th>\n",
       "      <td>1982</td>\n",
       "      <td>36</td>\n",
       "    </tr>\n",
       "    <tr>\n",
       "      <th>10</th>\n",
       "      <td>1991</td>\n",
       "      <td>41</td>\n",
       "    </tr>\n",
       "    <tr>\n",
       "      <th>11</th>\n",
       "      <td>1992</td>\n",
       "      <td>43</td>\n",
       "    </tr>\n",
       "    <tr>\n",
       "      <th>12</th>\n",
       "      <td>1981</td>\n",
       "      <td>46</td>\n",
       "    </tr>\n",
       "    <tr>\n",
       "      <th>13</th>\n",
       "      <td>1993</td>\n",
       "      <td>62</td>\n",
       "    </tr>\n",
       "    <tr>\n",
       "      <th>14</th>\n",
       "      <td>1994</td>\n",
       "      <td>121</td>\n",
       "    </tr>\n",
       "  </tbody>\n",
       "</table>\n",
       "</div>"
      ],
      "text/plain": [
       "    year_of_release  number_of_videogames\n",
       "0              1980                     9\n",
       "1              1984                    14\n",
       "2              1985                    14\n",
       "3              1988                    15\n",
       "4              1987                    16\n",
       "5              1990                    16\n",
       "6              1983                    17\n",
       "7              1989                    17\n",
       "8              1986                    21\n",
       "9              1982                    36\n",
       "10             1991                    41\n",
       "11             1992                    43\n",
       "12             1981                    46\n",
       "13             1993                    62\n",
       "14             1994                   121"
      ]
     },
     "execution_count": 13,
     "metadata": {},
     "output_type": "execute_result"
    }
   ],
   "source": [
    "games_for_year = df.groupby('year_of_release',)['name'].count().sort_values().reset_index()\n",
    "games_for_year.columns = ['year_of_release','number_of_videogames']\n",
    "games_for_year.query('year_of_release !=0', inplace=True)\n",
    "games_for_year.head(15)\n"
   ]
  },
  {
   "cell_type": "markdown",
   "metadata": {},
   "source": [
    "en esta tabla agrupamos el año de lanzamiento y el numero de videojuegos vendidos y los ordenamos de menor a mayor "
   ]
  },
  {
   "cell_type": "code",
   "execution_count": 14,
   "metadata": {
    "trusted": true
   },
   "outputs": [
    {
     "data": {
      "image/png": "[encoded data removed]",
      "text/plain": [
       "<Figure size 640x480 with 1 Axes>"
      ]
     },
     "metadata": {},
     "output_type": "display_data"
    }
   ],
   "source": [
    "plt.vlines(x=games_for_year['year_of_release'], ymin=0, ymax=games_for_year['number_of_videogames'], alpha=0.5, color='blue', linewidth=15)\n",
    "\n",
    "plt.title(\"Games Released per Year\")  \n",
    "plt.show()"
   ]
  },
  {
   "cell_type": "markdown",
   "metadata": {},
   "source": [
    "en esta tabla visualizamos en que años hubo mayor numero de videojuegos lanzados esto nos da parte a ver en que año podemos remontarnos para hacer un analicis de ventas\n",
    "en el caso siguiente seria 2005 a 2012 donde se ven mayores lanzamientos "
   ]
  },
  {
   "cell_type": "code",
   "execution_count": 15,
   "metadata": {
    "trusted": true
   },
   "outputs": [
    {
     "name": "stdout",
     "output_type": "stream",
     "text": [
      "  platform  total_sales\n",
      "0      PS2      1255.77\n",
      "1     X360       971.42\n",
      "2      PS3       939.65\n",
      "3      Wii       907.51\n",
      "4       DS       806.12\n"
     ]
    }
   ],
   "source": [
    "platform_sales = df.groupby('platform')['total_sales'].sum().sort_values(ascending=False).reset_index()\n",
    "print(platform_sales.head())"
   ]
  },
  {
   "cell_type": "markdown",
   "metadata": {},
   "source": [
    "en esta tabla especificamos que plataformas son las mas vendidas en todas las regiones en general asi mismo visualizamos que ps2 se lleva l primer puesto a pesar de la diferencia de años con consolas mas modernas como puede ser X360 o incluso su predecesor PS3        "
   ]
  },
  {
   "cell_type": "code",
   "execution_count": 16,
   "metadata": {
    "trusted": true
   },
   "outputs": [],
   "source": [
    "platform_sales['z_score'] = (platform_sales['total_sales'] - platform_sales['total_sales'].mean())/platform_sales['total_sales'].std()"
   ]
  },
  {
   "cell_type": "code",
   "execution_count": 17,
   "metadata": {
    "trusted": true
   },
   "outputs": [],
   "source": [
    "platform_sales['color'] = ['red' if score <= 0 else 'green' for score in platform_sales['z_score'] ]"
   ]
  },
  {
   "cell_type": "code",
   "execution_count": 18,
   "metadata": {
    "trusted": true
   },
   "outputs": [
    {
     "data": {
      "text/plain": [
       "<matplotlib.collections.LineCollection at 0x2c34b365c70>"
      ]
     },
     "execution_count": 18,
     "metadata": {},
     "output_type": "execute_result"
    },
    {
     "data": {
      "image/png": "[encoded data removed]",
      "text/plain": [
       "<Figure size 640x480 with 1 Axes>"
      ]
     },
     "metadata": {},
     "output_type": "display_data"
    }
   ],
   "source": [
    "plt.hlines(y=platform_sales.platform,\n",
    "xmax=platform_sales.z_score,\n",
    "xmin=0,\n",
    "color = platform_sales.color,\n",
    "linewidth = 6,           \n",
    "            )"
   ]
  },
  {
   "cell_type": "markdown",
   "metadata": {},
   "source": [
    "en esta tabla nos vasamos en todas las platarformas poniendo como meta la media, proponiendonos a ver que plataforma fueron rentables basandonos en sus ventas totales "
   ]
  },
  {
   "cell_type": "code",
   "execution_count": 19,
   "metadata": {
    "trusted": true
   },
   "outputs": [],
   "source": [
    "platform_life = pd.pivot_table(df,index='year_of_release',columns='platform',values='total_sales',aggfunc='sum',\n",
    ").fillna(0).reset_index()\n"
   ]
  },
  {
   "cell_type": "code",
   "execution_count": 20,
   "metadata": {
    "trusted": true
   },
   "outputs": [
    {
     "data": {
      "text/html": [
       "<div>\n",
       "<style scoped>\n",
       "    .dataframe tbody tr th:only-of-type {\n",
       "        vertical-align: middle;\n",
       "    }\n",
       "\n",
       "    .dataframe tbody tr th {\n",
       "        vertical-align: top;\n",
       "    }\n",
       "\n",
       "    .dataframe thead th {\n",
       "        text-align: right;\n",
       "    }\n",
       "</style>\n",
       "<table border=\"1\" class=\"dataframe\">\n",
       "  <thead>\n",
       "    <tr style=\"text-align: right;\">\n",
       "      <th>platform</th>\n",
       "      <th>year_of_release</th>\n",
       "      <th>2600</th>\n",
       "      <th>3DO</th>\n",
       "      <th>3DS</th>\n",
       "      <th>DC</th>\n",
       "      <th>DS</th>\n",
       "      <th>GB</th>\n",
       "      <th>GBA</th>\n",
       "      <th>GC</th>\n",
       "      <th>GEN</th>\n",
       "      <th>...</th>\n",
       "      <th>SAT</th>\n",
       "      <th>SCD</th>\n",
       "      <th>SNES</th>\n",
       "      <th>TG16</th>\n",
       "      <th>WS</th>\n",
       "      <th>Wii</th>\n",
       "      <th>WiiU</th>\n",
       "      <th>X360</th>\n",
       "      <th>XB</th>\n",
       "      <th>XOne</th>\n",
       "    </tr>\n",
       "  </thead>\n",
       "  <tbody>\n",
       "    <tr>\n",
       "      <th>1</th>\n",
       "      <td>1980</td>\n",
       "      <td>11.38</td>\n",
       "      <td>0.00</td>\n",
       "      <td>0.00</td>\n",
       "      <td>0.00</td>\n",
       "      <td>0.00</td>\n",
       "      <td>0.00</td>\n",
       "      <td>0.00</td>\n",
       "      <td>0.00</td>\n",
       "      <td>0.00</td>\n",
       "      <td>...</td>\n",
       "      <td>0.00</td>\n",
       "      <td>0.00</td>\n",
       "      <td>0.00</td>\n",
       "      <td>0.00</td>\n",
       "      <td>0.00</td>\n",
       "      <td>0.00</td>\n",
       "      <td>0.00</td>\n",
       "      <td>0.00</td>\n",
       "      <td>0.00</td>\n",
       "      <td>0.00</td>\n",
       "    </tr>\n",
       "    <tr>\n",
       "      <th>2</th>\n",
       "      <td>1981</td>\n",
       "      <td>35.68</td>\n",
       "      <td>0.00</td>\n",
       "      <td>0.00</td>\n",
       "      <td>0.00</td>\n",
       "      <td>0.00</td>\n",
       "      <td>0.00</td>\n",
       "      <td>0.00</td>\n",
       "      <td>0.00</td>\n",
       "      <td>0.00</td>\n",
       "      <td>...</td>\n",
       "      <td>0.00</td>\n",
       "      <td>0.00</td>\n",
       "      <td>0.00</td>\n",
       "      <td>0.00</td>\n",
       "      <td>0.00</td>\n",
       "      <td>0.00</td>\n",
       "      <td>0.00</td>\n",
       "      <td>0.00</td>\n",
       "      <td>0.00</td>\n",
       "      <td>0.00</td>\n",
       "    </tr>\n",
       "    <tr>\n",
       "      <th>3</th>\n",
       "      <td>1982</td>\n",
       "      <td>28.88</td>\n",
       "      <td>0.00</td>\n",
       "      <td>0.00</td>\n",
       "      <td>0.00</td>\n",
       "      <td>0.00</td>\n",
       "      <td>0.00</td>\n",
       "      <td>0.00</td>\n",
       "      <td>0.00</td>\n",
       "      <td>0.00</td>\n",
       "      <td>...</td>\n",
       "      <td>0.00</td>\n",
       "      <td>0.00</td>\n",
       "      <td>0.00</td>\n",
       "      <td>0.00</td>\n",
       "      <td>0.00</td>\n",
       "      <td>0.00</td>\n",
       "      <td>0.00</td>\n",
       "      <td>0.00</td>\n",
       "      <td>0.00</td>\n",
       "      <td>0.00</td>\n",
       "    </tr>\n",
       "    <tr>\n",
       "      <th>4</th>\n",
       "      <td>1983</td>\n",
       "      <td>5.84</td>\n",
       "      <td>0.00</td>\n",
       "      <td>0.00</td>\n",
       "      <td>0.00</td>\n",
       "      <td>0.00</td>\n",
       "      <td>0.00</td>\n",
       "      <td>0.00</td>\n",
       "      <td>0.00</td>\n",
       "      <td>0.00</td>\n",
       "      <td>...</td>\n",
       "      <td>0.00</td>\n",
       "      <td>0.00</td>\n",
       "      <td>0.00</td>\n",
       "      <td>0.00</td>\n",
       "      <td>0.00</td>\n",
       "      <td>0.00</td>\n",
       "      <td>0.00</td>\n",
       "      <td>0.00</td>\n",
       "      <td>0.00</td>\n",
       "      <td>0.00</td>\n",
       "    </tr>\n",
       "    <tr>\n",
       "      <th>5</th>\n",
       "      <td>1984</td>\n",
       "      <td>0.27</td>\n",
       "      <td>0.00</td>\n",
       "      <td>0.00</td>\n",
       "      <td>0.00</td>\n",
       "      <td>0.00</td>\n",
       "      <td>0.00</td>\n",
       "      <td>0.00</td>\n",
       "      <td>0.00</td>\n",
       "      <td>0.00</td>\n",
       "      <td>...</td>\n",
       "      <td>0.00</td>\n",
       "      <td>0.00</td>\n",
       "      <td>0.00</td>\n",
       "      <td>0.00</td>\n",
       "      <td>0.00</td>\n",
       "      <td>0.00</td>\n",
       "      <td>0.00</td>\n",
       "      <td>0.00</td>\n",
       "      <td>0.00</td>\n",
       "      <td>0.00</td>\n",
       "    </tr>\n",
       "    <tr>\n",
       "      <th>6</th>\n",
       "      <td>1985</td>\n",
       "      <td>0.45</td>\n",
       "      <td>0.00</td>\n",
       "      <td>0.00</td>\n",
       "      <td>0.00</td>\n",
       "      <td>0.02</td>\n",
       "      <td>0.00</td>\n",
       "      <td>0.00</td>\n",
       "      <td>0.00</td>\n",
       "      <td>0.00</td>\n",
       "      <td>...</td>\n",
       "      <td>0.00</td>\n",
       "      <td>0.00</td>\n",
       "      <td>0.00</td>\n",
       "      <td>0.00</td>\n",
       "      <td>0.00</td>\n",
       "      <td>0.00</td>\n",
       "      <td>0.00</td>\n",
       "      <td>0.00</td>\n",
       "      <td>0.00</td>\n",
       "      <td>0.00</td>\n",
       "    </tr>\n",
       "    <tr>\n",
       "      <th>7</th>\n",
       "      <td>1986</td>\n",
       "      <td>0.67</td>\n",
       "      <td>0.00</td>\n",
       "      <td>0.00</td>\n",
       "      <td>0.00</td>\n",
       "      <td>0.00</td>\n",
       "      <td>0.00</td>\n",
       "      <td>0.00</td>\n",
       "      <td>0.00</td>\n",
       "      <td>0.00</td>\n",
       "      <td>...</td>\n",
       "      <td>0.00</td>\n",
       "      <td>0.00</td>\n",
       "      <td>0.00</td>\n",
       "      <td>0.00</td>\n",
       "      <td>0.00</td>\n",
       "      <td>0.00</td>\n",
       "      <td>0.00</td>\n",
       "      <td>0.00</td>\n",
       "      <td>0.00</td>\n",
       "      <td>0.00</td>\n",
       "    </tr>\n",
       "    <tr>\n",
       "      <th>8</th>\n",
       "      <td>1987</td>\n",
       "      <td>1.94</td>\n",
       "      <td>0.00</td>\n",
       "      <td>0.00</td>\n",
       "      <td>0.00</td>\n",
       "      <td>0.00</td>\n",
       "      <td>0.00</td>\n",
       "      <td>0.00</td>\n",
       "      <td>0.00</td>\n",
       "      <td>0.00</td>\n",
       "      <td>...</td>\n",
       "      <td>0.00</td>\n",
       "      <td>0.00</td>\n",
       "      <td>0.00</td>\n",
       "      <td>0.00</td>\n",
       "      <td>0.00</td>\n",
       "      <td>0.00</td>\n",
       "      <td>0.00</td>\n",
       "      <td>0.00</td>\n",
       "      <td>0.00</td>\n",
       "      <td>0.00</td>\n",
       "    </tr>\n",
       "    <tr>\n",
       "      <th>9</th>\n",
       "      <td>1988</td>\n",
       "      <td>0.74</td>\n",
       "      <td>0.00</td>\n",
       "      <td>0.00</td>\n",
       "      <td>0.00</td>\n",
       "      <td>0.00</td>\n",
       "      <td>1.43</td>\n",
       "      <td>0.00</td>\n",
       "      <td>0.00</td>\n",
       "      <td>0.00</td>\n",
       "      <td>...</td>\n",
       "      <td>0.00</td>\n",
       "      <td>0.00</td>\n",
       "      <td>0.00</td>\n",
       "      <td>0.00</td>\n",
       "      <td>0.00</td>\n",
       "      <td>0.00</td>\n",
       "      <td>0.00</td>\n",
       "      <td>0.00</td>\n",
       "      <td>0.00</td>\n",
       "      <td>0.00</td>\n",
       "    </tr>\n",
       "    <tr>\n",
       "      <th>10</th>\n",
       "      <td>1989</td>\n",
       "      <td>0.63</td>\n",
       "      <td>0.00</td>\n",
       "      <td>0.00</td>\n",
       "      <td>0.00</td>\n",
       "      <td>0.00</td>\n",
       "      <td>64.97</td>\n",
       "      <td>0.00</td>\n",
       "      <td>0.00</td>\n",
       "      <td>0.00</td>\n",
       "      <td>...</td>\n",
       "      <td>0.00</td>\n",
       "      <td>0.00</td>\n",
       "      <td>0.00</td>\n",
       "      <td>0.00</td>\n",
       "      <td>0.00</td>\n",
       "      <td>0.00</td>\n",
       "      <td>0.00</td>\n",
       "      <td>0.00</td>\n",
       "      <td>0.00</td>\n",
       "      <td>0.00</td>\n",
       "    </tr>\n",
       "    <tr>\n",
       "      <th>11</th>\n",
       "      <td>1990</td>\n",
       "      <td>0.00</td>\n",
       "      <td>0.00</td>\n",
       "      <td>0.00</td>\n",
       "      <td>0.00</td>\n",
       "      <td>0.00</td>\n",
       "      <td>4.89</td>\n",
       "      <td>0.00</td>\n",
       "      <td>0.00</td>\n",
       "      <td>2.60</td>\n",
       "      <td>...</td>\n",
       "      <td>0.00</td>\n",
       "      <td>0.00</td>\n",
       "      <td>26.15</td>\n",
       "      <td>0.00</td>\n",
       "      <td>0.00</td>\n",
       "      <td>0.00</td>\n",
       "      <td>0.00</td>\n",
       "      <td>0.00</td>\n",
       "      <td>0.00</td>\n",
       "      <td>0.00</td>\n",
       "    </tr>\n",
       "    <tr>\n",
       "      <th>12</th>\n",
       "      <td>1991</td>\n",
       "      <td>0.00</td>\n",
       "      <td>0.00</td>\n",
       "      <td>0.00</td>\n",
       "      <td>0.00</td>\n",
       "      <td>0.00</td>\n",
       "      <td>5.57</td>\n",
       "      <td>0.00</td>\n",
       "      <td>0.00</td>\n",
       "      <td>4.33</td>\n",
       "      <td>...</td>\n",
       "      <td>0.00</td>\n",
       "      <td>0.00</td>\n",
       "      <td>16.22</td>\n",
       "      <td>0.00</td>\n",
       "      <td>0.00</td>\n",
       "      <td>0.00</td>\n",
       "      <td>0.00</td>\n",
       "      <td>0.00</td>\n",
       "      <td>0.00</td>\n",
       "      <td>0.00</td>\n",
       "    </tr>\n",
       "    <tr>\n",
       "      <th>13</th>\n",
       "      <td>1992</td>\n",
       "      <td>0.00</td>\n",
       "      <td>0.00</td>\n",
       "      <td>0.00</td>\n",
       "      <td>0.00</td>\n",
       "      <td>0.00</td>\n",
       "      <td>25.49</td>\n",
       "      <td>0.00</td>\n",
       "      <td>0.00</td>\n",
       "      <td>12.64</td>\n",
       "      <td>...</td>\n",
       "      <td>0.00</td>\n",
       "      <td>0.00</td>\n",
       "      <td>32.98</td>\n",
       "      <td>0.00</td>\n",
       "      <td>0.00</td>\n",
       "      <td>0.00</td>\n",
       "      <td>0.00</td>\n",
       "      <td>0.00</td>\n",
       "      <td>0.00</td>\n",
       "      <td>0.00</td>\n",
       "    </tr>\n",
       "    <tr>\n",
       "      <th>14</th>\n",
       "      <td>1993</td>\n",
       "      <td>0.00</td>\n",
       "      <td>0.00</td>\n",
       "      <td>0.00</td>\n",
       "      <td>0.00</td>\n",
       "      <td>0.00</td>\n",
       "      <td>0.00</td>\n",
       "      <td>0.00</td>\n",
       "      <td>0.00</td>\n",
       "      <td>3.07</td>\n",
       "      <td>...</td>\n",
       "      <td>0.00</td>\n",
       "      <td>1.50</td>\n",
       "      <td>40.02</td>\n",
       "      <td>0.00</td>\n",
       "      <td>0.00</td>\n",
       "      <td>0.00</td>\n",
       "      <td>0.00</td>\n",
       "      <td>0.00</td>\n",
       "      <td>0.00</td>\n",
       "      <td>0.00</td>\n",
       "    </tr>\n",
       "    <tr>\n",
       "      <th>15</th>\n",
       "      <td>1994</td>\n",
       "      <td>0.00</td>\n",
       "      <td>0.02</td>\n",
       "      <td>0.00</td>\n",
       "      <td>0.00</td>\n",
       "      <td>0.00</td>\n",
       "      <td>12.18</td>\n",
       "      <td>0.00</td>\n",
       "      <td>0.00</td>\n",
       "      <td>8.13</td>\n",
       "      <td>...</td>\n",
       "      <td>3.65</td>\n",
       "      <td>0.36</td>\n",
       "      <td>35.08</td>\n",
       "      <td>0.00</td>\n",
       "      <td>0.00</td>\n",
       "      <td>0.00</td>\n",
       "      <td>0.00</td>\n",
       "      <td>0.00</td>\n",
       "      <td>0.00</td>\n",
       "      <td>0.00</td>\n",
       "    </tr>\n",
       "    <tr>\n",
       "      <th>16</th>\n",
       "      <td>1995</td>\n",
       "      <td>0.00</td>\n",
       "      <td>0.08</td>\n",
       "      <td>0.00</td>\n",
       "      <td>0.00</td>\n",
       "      <td>0.00</td>\n",
       "      <td>3.60</td>\n",
       "      <td>0.00</td>\n",
       "      <td>0.00</td>\n",
       "      <td>0.00</td>\n",
       "      <td>...</td>\n",
       "      <td>11.57</td>\n",
       "      <td>0.00</td>\n",
       "      <td>32.20</td>\n",
       "      <td>0.16</td>\n",
       "      <td>0.00</td>\n",
       "      <td>0.00</td>\n",
       "      <td>0.00</td>\n",
       "      <td>0.00</td>\n",
       "      <td>0.00</td>\n",
       "      <td>0.00</td>\n",
       "    </tr>\n",
       "    <tr>\n",
       "      <th>17</th>\n",
       "      <td>1996</td>\n",
       "      <td>0.00</td>\n",
       "      <td>0.00</td>\n",
       "      <td>0.00</td>\n",
       "      <td>0.00</td>\n",
       "      <td>0.00</td>\n",
       "      <td>36.03</td>\n",
       "      <td>0.00</td>\n",
       "      <td>0.00</td>\n",
       "      <td>0.00</td>\n",
       "      <td>...</td>\n",
       "      <td>7.69</td>\n",
       "      <td>0.00</td>\n",
       "      <td>15.92</td>\n",
       "      <td>0.00</td>\n",
       "      <td>0.00</td>\n",
       "      <td>0.00</td>\n",
       "      <td>0.00</td>\n",
       "      <td>0.00</td>\n",
       "      <td>0.00</td>\n",
       "      <td>0.00</td>\n",
       "    </tr>\n",
       "    <tr>\n",
       "      <th>18</th>\n",
       "      <td>1997</td>\n",
       "      <td>0.00</td>\n",
       "      <td>0.00</td>\n",
       "      <td>0.00</td>\n",
       "      <td>0.00</td>\n",
       "      <td>0.00</td>\n",
       "      <td>6.37</td>\n",
       "      <td>0.00</td>\n",
       "      <td>0.00</td>\n",
       "      <td>0.00</td>\n",
       "      <td>...</td>\n",
       "      <td>6.77</td>\n",
       "      <td>0.00</td>\n",
       "      <td>0.99</td>\n",
       "      <td>0.00</td>\n",
       "      <td>0.00</td>\n",
       "      <td>0.00</td>\n",
       "      <td>0.00</td>\n",
       "      <td>0.00</td>\n",
       "      <td>0.00</td>\n",
       "      <td>0.00</td>\n",
       "    </tr>\n",
       "    <tr>\n",
       "      <th>19</th>\n",
       "      <td>1998</td>\n",
       "      <td>0.00</td>\n",
       "      <td>0.00</td>\n",
       "      <td>0.00</td>\n",
       "      <td>3.38</td>\n",
       "      <td>0.00</td>\n",
       "      <td>26.90</td>\n",
       "      <td>0.00</td>\n",
       "      <td>0.00</td>\n",
       "      <td>0.00</td>\n",
       "      <td>...</td>\n",
       "      <td>3.82</td>\n",
       "      <td>0.00</td>\n",
       "      <td>0.22</td>\n",
       "      <td>0.00</td>\n",
       "      <td>0.00</td>\n",
       "      <td>0.00</td>\n",
       "      <td>0.00</td>\n",
       "      <td>0.00</td>\n",
       "      <td>0.00</td>\n",
       "      <td>0.00</td>\n",
       "    </tr>\n",
       "    <tr>\n",
       "      <th>20</th>\n",
       "      <td>1999</td>\n",
       "      <td>0.00</td>\n",
       "      <td>0.00</td>\n",
       "      <td>0.00</td>\n",
       "      <td>5.16</td>\n",
       "      <td>0.00</td>\n",
       "      <td>38.00</td>\n",
       "      <td>0.00</td>\n",
       "      <td>0.00</td>\n",
       "      <td>0.00</td>\n",
       "      <td>...</td>\n",
       "      <td>0.09</td>\n",
       "      <td>0.00</td>\n",
       "      <td>0.26</td>\n",
       "      <td>0.00</td>\n",
       "      <td>0.46</td>\n",
       "      <td>0.00</td>\n",
       "      <td>0.00</td>\n",
       "      <td>0.00</td>\n",
       "      <td>0.00</td>\n",
       "      <td>0.00</td>\n",
       "    </tr>\n",
       "    <tr>\n",
       "      <th>21</th>\n",
       "      <td>2000</td>\n",
       "      <td>0.00</td>\n",
       "      <td>0.00</td>\n",
       "      <td>0.00</td>\n",
       "      <td>5.99</td>\n",
       "      <td>0.00</td>\n",
       "      <td>19.76</td>\n",
       "      <td>0.07</td>\n",
       "      <td>0.00</td>\n",
       "      <td>0.00</td>\n",
       "      <td>...</td>\n",
       "      <td>0.00</td>\n",
       "      <td>0.00</td>\n",
       "      <td>0.00</td>\n",
       "      <td>0.00</td>\n",
       "      <td>0.68</td>\n",
       "      <td>0.00</td>\n",
       "      <td>0.00</td>\n",
       "      <td>0.00</td>\n",
       "      <td>0.99</td>\n",
       "      <td>0.00</td>\n",
       "    </tr>\n",
       "    <tr>\n",
       "      <th>22</th>\n",
       "      <td>2001</td>\n",
       "      <td>0.00</td>\n",
       "      <td>0.00</td>\n",
       "      <td>0.00</td>\n",
       "      <td>1.07</td>\n",
       "      <td>0.00</td>\n",
       "      <td>9.24</td>\n",
       "      <td>61.53</td>\n",
       "      <td>26.34</td>\n",
       "      <td>0.00</td>\n",
       "      <td>...</td>\n",
       "      <td>0.00</td>\n",
       "      <td>0.00</td>\n",
       "      <td>0.00</td>\n",
       "      <td>0.00</td>\n",
       "      <td>0.28</td>\n",
       "      <td>0.00</td>\n",
       "      <td>0.00</td>\n",
       "      <td>0.00</td>\n",
       "      <td>22.26</td>\n",
       "      <td>0.00</td>\n",
       "    </tr>\n",
       "    <tr>\n",
       "      <th>23</th>\n",
       "      <td>2002</td>\n",
       "      <td>0.00</td>\n",
       "      <td>0.00</td>\n",
       "      <td>0.00</td>\n",
       "      <td>0.29</td>\n",
       "      <td>0.00</td>\n",
       "      <td>0.00</td>\n",
       "      <td>74.16</td>\n",
       "      <td>51.81</td>\n",
       "      <td>0.00</td>\n",
       "      <td>...</td>\n",
       "      <td>0.00</td>\n",
       "      <td>0.00</td>\n",
       "      <td>0.00</td>\n",
       "      <td>0.00</td>\n",
       "      <td>0.00</td>\n",
       "      <td>0.00</td>\n",
       "      <td>0.00</td>\n",
       "      <td>0.00</td>\n",
       "      <td>48.01</td>\n",
       "      <td>0.00</td>\n",
       "    </tr>\n",
       "    <tr>\n",
       "      <th>24</th>\n",
       "      <td>2003</td>\n",
       "      <td>0.00</td>\n",
       "      <td>0.00</td>\n",
       "      <td>0.00</td>\n",
       "      <td>0.00</td>\n",
       "      <td>0.00</td>\n",
       "      <td>0.00</td>\n",
       "      <td>56.67</td>\n",
       "      <td>50.61</td>\n",
       "      <td>0.00</td>\n",
       "      <td>...</td>\n",
       "      <td>0.00</td>\n",
       "      <td>0.00</td>\n",
       "      <td>0.00</td>\n",
       "      <td>0.00</td>\n",
       "      <td>0.00</td>\n",
       "      <td>0.00</td>\n",
       "      <td>0.00</td>\n",
       "      <td>0.00</td>\n",
       "      <td>55.04</td>\n",
       "      <td>0.00</td>\n",
       "    </tr>\n",
       "    <tr>\n",
       "      <th>25</th>\n",
       "      <td>2004</td>\n",
       "      <td>0.00</td>\n",
       "      <td>0.00</td>\n",
       "      <td>0.00</td>\n",
       "      <td>0.00</td>\n",
       "      <td>17.27</td>\n",
       "      <td>0.00</td>\n",
       "      <td>77.91</td>\n",
       "      <td>28.82</td>\n",
       "      <td>0.00</td>\n",
       "      <td>...</td>\n",
       "      <td>0.00</td>\n",
       "      <td>0.00</td>\n",
       "      <td>0.00</td>\n",
       "      <td>0.00</td>\n",
       "      <td>0.00</td>\n",
       "      <td>0.00</td>\n",
       "      <td>0.00</td>\n",
       "      <td>0.00</td>\n",
       "      <td>65.42</td>\n",
       "      <td>0.00</td>\n",
       "    </tr>\n",
       "    <tr>\n",
       "      <th>26</th>\n",
       "      <td>2005</td>\n",
       "      <td>0.00</td>\n",
       "      <td>0.00</td>\n",
       "      <td>0.00</td>\n",
       "      <td>0.00</td>\n",
       "      <td>130.14</td>\n",
       "      <td>0.00</td>\n",
       "      <td>33.86</td>\n",
       "      <td>27.62</td>\n",
       "      <td>0.00</td>\n",
       "      <td>...</td>\n",
       "      <td>0.00</td>\n",
       "      <td>0.00</td>\n",
       "      <td>0.00</td>\n",
       "      <td>0.00</td>\n",
       "      <td>0.00</td>\n",
       "      <td>0.00</td>\n",
       "      <td>0.00</td>\n",
       "      <td>8.25</td>\n",
       "      <td>49.08</td>\n",
       "      <td>0.00</td>\n",
       "    </tr>\n",
       "    <tr>\n",
       "      <th>27</th>\n",
       "      <td>2006</td>\n",
       "      <td>0.00</td>\n",
       "      <td>0.00</td>\n",
       "      <td>0.00</td>\n",
       "      <td>0.00</td>\n",
       "      <td>119.81</td>\n",
       "      <td>0.00</td>\n",
       "      <td>5.28</td>\n",
       "      <td>11.26</td>\n",
       "      <td>0.00</td>\n",
       "      <td>...</td>\n",
       "      <td>0.00</td>\n",
       "      <td>0.00</td>\n",
       "      <td>0.00</td>\n",
       "      <td>0.00</td>\n",
       "      <td>0.00</td>\n",
       "      <td>137.15</td>\n",
       "      <td>0.00</td>\n",
       "      <td>51.62</td>\n",
       "      <td>10.04</td>\n",
       "      <td>0.00</td>\n",
       "    </tr>\n",
       "    <tr>\n",
       "      <th>28</th>\n",
       "      <td>2007</td>\n",
       "      <td>0.00</td>\n",
       "      <td>0.00</td>\n",
       "      <td>0.00</td>\n",
       "      <td>0.02</td>\n",
       "      <td>146.94</td>\n",
       "      <td>0.00</td>\n",
       "      <td>3.40</td>\n",
       "      <td>0.27</td>\n",
       "      <td>0.00</td>\n",
       "      <td>...</td>\n",
       "      <td>0.00</td>\n",
       "      <td>0.00</td>\n",
       "      <td>0.00</td>\n",
       "      <td>0.00</td>\n",
       "      <td>0.00</td>\n",
       "      <td>152.77</td>\n",
       "      <td>0.00</td>\n",
       "      <td>95.41</td>\n",
       "      <td>0.55</td>\n",
       "      <td>0.00</td>\n",
       "    </tr>\n",
       "    <tr>\n",
       "      <th>29</th>\n",
       "      <td>2008</td>\n",
       "      <td>0.00</td>\n",
       "      <td>0.00</td>\n",
       "      <td>0.00</td>\n",
       "      <td>0.04</td>\n",
       "      <td>145.31</td>\n",
       "      <td>0.00</td>\n",
       "      <td>0.00</td>\n",
       "      <td>0.00</td>\n",
       "      <td>0.00</td>\n",
       "      <td>...</td>\n",
       "      <td>0.00</td>\n",
       "      <td>0.00</td>\n",
       "      <td>0.00</td>\n",
       "      <td>0.00</td>\n",
       "      <td>0.00</td>\n",
       "      <td>171.32</td>\n",
       "      <td>0.00</td>\n",
       "      <td>135.26</td>\n",
       "      <td>0.18</td>\n",
       "      <td>0.00</td>\n",
       "    </tr>\n",
       "    <tr>\n",
       "      <th>30</th>\n",
       "      <td>2009</td>\n",
       "      <td>0.00</td>\n",
       "      <td>0.00</td>\n",
       "      <td>0.00</td>\n",
       "      <td>0.00</td>\n",
       "      <td>119.54</td>\n",
       "      <td>0.00</td>\n",
       "      <td>0.00</td>\n",
       "      <td>0.00</td>\n",
       "      <td>0.00</td>\n",
       "      <td>...</td>\n",
       "      <td>0.00</td>\n",
       "      <td>0.00</td>\n",
       "      <td>0.00</td>\n",
       "      <td>0.00</td>\n",
       "      <td>0.00</td>\n",
       "      <td>206.97</td>\n",
       "      <td>0.00</td>\n",
       "      <td>120.29</td>\n",
       "      <td>0.00</td>\n",
       "      <td>0.00</td>\n",
       "    </tr>\n",
       "    <tr>\n",
       "      <th>31</th>\n",
       "      <td>2010</td>\n",
       "      <td>0.00</td>\n",
       "      <td>0.00</td>\n",
       "      <td>0.00</td>\n",
       "      <td>0.00</td>\n",
       "      <td>85.02</td>\n",
       "      <td>0.00</td>\n",
       "      <td>0.00</td>\n",
       "      <td>0.00</td>\n",
       "      <td>0.00</td>\n",
       "      <td>...</td>\n",
       "      <td>0.00</td>\n",
       "      <td>0.00</td>\n",
       "      <td>0.00</td>\n",
       "      <td>0.00</td>\n",
       "      <td>0.00</td>\n",
       "      <td>127.95</td>\n",
       "      <td>0.00</td>\n",
       "      <td>170.03</td>\n",
       "      <td>0.00</td>\n",
       "      <td>0.00</td>\n",
       "    </tr>\n",
       "    <tr>\n",
       "      <th>32</th>\n",
       "      <td>2011</td>\n",
       "      <td>0.00</td>\n",
       "      <td>0.00</td>\n",
       "      <td>63.20</td>\n",
       "      <td>0.00</td>\n",
       "      <td>26.18</td>\n",
       "      <td>0.00</td>\n",
       "      <td>0.00</td>\n",
       "      <td>0.00</td>\n",
       "      <td>0.00</td>\n",
       "      <td>...</td>\n",
       "      <td>0.00</td>\n",
       "      <td>0.00</td>\n",
       "      <td>0.00</td>\n",
       "      <td>0.00</td>\n",
       "      <td>0.00</td>\n",
       "      <td>59.65</td>\n",
       "      <td>0.00</td>\n",
       "      <td>143.84</td>\n",
       "      <td>0.00</td>\n",
       "      <td>0.00</td>\n",
       "    </tr>\n",
       "    <tr>\n",
       "      <th>33</th>\n",
       "      <td>2012</td>\n",
       "      <td>0.00</td>\n",
       "      <td>0.00</td>\n",
       "      <td>51.36</td>\n",
       "      <td>0.00</td>\n",
       "      <td>11.01</td>\n",
       "      <td>0.00</td>\n",
       "      <td>0.00</td>\n",
       "      <td>0.00</td>\n",
       "      <td>0.00</td>\n",
       "      <td>...</td>\n",
       "      <td>0.00</td>\n",
       "      <td>0.00</td>\n",
       "      <td>0.00</td>\n",
       "      <td>0.00</td>\n",
       "      <td>0.00</td>\n",
       "      <td>21.71</td>\n",
       "      <td>17.56</td>\n",
       "      <td>99.74</td>\n",
       "      <td>0.00</td>\n",
       "      <td>0.00</td>\n",
       "    </tr>\n",
       "    <tr>\n",
       "      <th>34</th>\n",
       "      <td>2013</td>\n",
       "      <td>0.00</td>\n",
       "      <td>0.00</td>\n",
       "      <td>56.57</td>\n",
       "      <td>0.00</td>\n",
       "      <td>1.54</td>\n",
       "      <td>0.00</td>\n",
       "      <td>0.00</td>\n",
       "      <td>0.00</td>\n",
       "      <td>0.00</td>\n",
       "      <td>...</td>\n",
       "      <td>0.00</td>\n",
       "      <td>0.00</td>\n",
       "      <td>0.00</td>\n",
       "      <td>0.00</td>\n",
       "      <td>0.00</td>\n",
       "      <td>8.59</td>\n",
       "      <td>21.65</td>\n",
       "      <td>88.58</td>\n",
       "      <td>0.00</td>\n",
       "      <td>18.96</td>\n",
       "    </tr>\n",
       "    <tr>\n",
       "      <th>35</th>\n",
       "      <td>2014</td>\n",
       "      <td>0.00</td>\n",
       "      <td>0.00</td>\n",
       "      <td>43.76</td>\n",
       "      <td>0.00</td>\n",
       "      <td>0.00</td>\n",
       "      <td>0.00</td>\n",
       "      <td>0.00</td>\n",
       "      <td>0.00</td>\n",
       "      <td>0.00</td>\n",
       "      <td>...</td>\n",
       "      <td>0.00</td>\n",
       "      <td>0.00</td>\n",
       "      <td>0.00</td>\n",
       "      <td>0.00</td>\n",
       "      <td>0.00</td>\n",
       "      <td>3.75</td>\n",
       "      <td>22.03</td>\n",
       "      <td>34.74</td>\n",
       "      <td>0.00</td>\n",
       "      <td>54.07</td>\n",
       "    </tr>\n",
       "    <tr>\n",
       "      <th>36</th>\n",
       "      <td>2015</td>\n",
       "      <td>0.00</td>\n",
       "      <td>0.00</td>\n",
       "      <td>27.78</td>\n",
       "      <td>0.00</td>\n",
       "      <td>0.00</td>\n",
       "      <td>0.00</td>\n",
       "      <td>0.00</td>\n",
       "      <td>0.00</td>\n",
       "      <td>0.00</td>\n",
       "      <td>...</td>\n",
       "      <td>0.00</td>\n",
       "      <td>0.00</td>\n",
       "      <td>0.00</td>\n",
       "      <td>0.00</td>\n",
       "      <td>0.00</td>\n",
       "      <td>1.14</td>\n",
       "      <td>16.35</td>\n",
       "      <td>11.96</td>\n",
       "      <td>0.00</td>\n",
       "      <td>60.14</td>\n",
       "    </tr>\n",
       "    <tr>\n",
       "      <th>37</th>\n",
       "      <td>2016</td>\n",
       "      <td>0.00</td>\n",
       "      <td>0.00</td>\n",
       "      <td>15.14</td>\n",
       "      <td>0.00</td>\n",
       "      <td>0.00</td>\n",
       "      <td>0.00</td>\n",
       "      <td>0.00</td>\n",
       "      <td>0.00</td>\n",
       "      <td>0.00</td>\n",
       "      <td>...</td>\n",
       "      <td>0.00</td>\n",
       "      <td>0.00</td>\n",
       "      <td>0.00</td>\n",
       "      <td>0.00</td>\n",
       "      <td>0.00</td>\n",
       "      <td>0.18</td>\n",
       "      <td>4.60</td>\n",
       "      <td>1.52</td>\n",
       "      <td>0.00</td>\n",
       "      <td>26.15</td>\n",
       "    </tr>\n",
       "  </tbody>\n",
       "</table>\n",
       "<p>37 rows × 32 columns</p>\n",
       "</div>"
      ],
      "text/plain": [
       "platform  year_of_release   2600   3DO    3DS    DC      DS     GB    GBA  \\\n",
       "1                    1980  11.38  0.00   0.00  0.00    0.00   0.00   0.00   \n",
       "2                    1981  35.68  0.00   0.00  0.00    0.00   0.00   0.00   \n",
       "3                    1982  28.88  0.00   0.00  0.00    0.00   0.00   0.00   \n",
       "4                    1983   5.84  0.00   0.00  0.00    0.00   0.00   0.00   \n",
       "5                    1984   0.27  0.00   0.00  0.00    0.00   0.00   0.00   \n",
       "6                    1985   0.45  0.00   0.00  0.00    0.02   0.00   0.00   \n",
       "7                    1986   0.67  0.00   0.00  0.00    0.00   0.00   0.00   \n",
       "8                    1987   1.94  0.00   0.00  0.00    0.00   0.00   0.00   \n",
       "9                    1988   0.74  0.00   0.00  0.00    0.00   1.43   0.00   \n",
       "10                   1989   0.63  0.00   0.00  0.00    0.00  64.97   0.00   \n",
       "11                   1990   0.00  0.00   0.00  0.00    0.00   4.89   0.00   \n",
       "12                   1991   0.00  0.00   0.00  0.00    0.00   5.57   0.00   \n",
       "13                   1992   0.00  0.00   0.00  0.00    0.00  25.49   0.00   \n",
       "14                   1993   0.00  0.00   0.00  0.00    0.00   0.00   0.00   \n",
       "15                   1994   0.00  0.02   0.00  0.00    0.00  12.18   0.00   \n",
       "16                   1995   0.00  0.08   0.00  0.00    0.00   3.60   0.00   \n",
       "17                   1996   0.00  0.00   0.00  0.00    0.00  36.03   0.00   \n",
       "18                   1997   0.00  0.00   0.00  0.00    0.00   6.37   0.00   \n",
       "19                   1998   0.00  0.00   0.00  3.38    0.00  26.90   0.00   \n",
       "20                   1999   0.00  0.00   0.00  5.16    0.00  38.00   0.00   \n",
       "21                   2000   0.00  0.00   0.00  5.99    0.00  19.76   0.07   \n",
       "22                   2001   0.00  0.00   0.00  1.07    0.00   9.24  61.53   \n",
       "23                   2002   0.00  0.00   0.00  0.29    0.00   0.00  74.16   \n",
       "24                   2003   0.00  0.00   0.00  0.00    0.00   0.00  56.67   \n",
       "25                   2004   0.00  0.00   0.00  0.00   17.27   0.00  77.91   \n",
       "26                   2005   0.00  0.00   0.00  0.00  130.14   0.00  33.86   \n",
       "27                   2006   0.00  0.00   0.00  0.00  119.81   0.00   5.28   \n",
       "28                   2007   0.00  0.00   0.00  0.02  146.94   0.00   3.40   \n",
       "29                   2008   0.00  0.00   0.00  0.04  145.31   0.00   0.00   \n",
       "30                   2009   0.00  0.00   0.00  0.00  119.54   0.00   0.00   \n",
       "31                   2010   0.00  0.00   0.00  0.00   85.02   0.00   0.00   \n",
       "32                   2011   0.00  0.00  63.20  0.00   26.18   0.00   0.00   \n",
       "33                   2012   0.00  0.00  51.36  0.00   11.01   0.00   0.00   \n",
       "34                   2013   0.00  0.00  56.57  0.00    1.54   0.00   0.00   \n",
       "35                   2014   0.00  0.00  43.76  0.00    0.00   0.00   0.00   \n",
       "36                   2015   0.00  0.00  27.78  0.00    0.00   0.00   0.00   \n",
       "37                   2016   0.00  0.00  15.14  0.00    0.00   0.00   0.00   \n",
       "\n",
       "platform     GC    GEN  ...    SAT   SCD   SNES  TG16    WS     Wii   WiiU  \\\n",
       "1          0.00   0.00  ...   0.00  0.00   0.00  0.00  0.00    0.00   0.00   \n",
       "2          0.00   0.00  ...   0.00  0.00   0.00  0.00  0.00    0.00   0.00   \n",
       "3          0.00   0.00  ...   0.00  0.00   0.00  0.00  0.00    0.00   0.00   \n",
       "4          0.00   0.00  ...   0.00  0.00   0.00  0.00  0.00    0.00   0.00   \n",
       "5          0.00   0.00  ...   0.00  0.00   0.00  0.00  0.00    0.00   0.00   \n",
       "6          0.00   0.00  ...   0.00  0.00   0.00  0.00  0.00    0.00   0.00   \n",
       "7          0.00   0.00  ...   0.00  0.00   0.00  0.00  0.00    0.00   0.00   \n",
       "8          0.00   0.00  ...   0.00  0.00   0.00  0.00  0.00    0.00   0.00   \n",
       "9          0.00   0.00  ...   0.00  0.00   0.00  0.00  0.00    0.00   0.00   \n",
       "10         0.00   0.00  ...   0.00  0.00   0.00  0.00  0.00    0.00   0.00   \n",
       "11         0.00   2.60  ...   0.00  0.00  26.15  0.00  0.00    0.00   0.00   \n",
       "12         0.00   4.33  ...   0.00  0.00  16.22  0.00  0.00    0.00   0.00   \n",
       "13         0.00  12.64  ...   0.00  0.00  32.98  0.00  0.00    0.00   0.00   \n",
       "14         0.00   3.07  ...   0.00  1.50  40.02  0.00  0.00    0.00   0.00   \n",
       "15         0.00   8.13  ...   3.65  0.36  35.08  0.00  0.00    0.00   0.00   \n",
       "16         0.00   0.00  ...  11.57  0.00  32.20  0.16  0.00    0.00   0.00   \n",
       "17         0.00   0.00  ...   7.69  0.00  15.92  0.00  0.00    0.00   0.00   \n",
       "18         0.00   0.00  ...   6.77  0.00   0.99  0.00  0.00    0.00   0.00   \n",
       "19         0.00   0.00  ...   3.82  0.00   0.22  0.00  0.00    0.00   0.00   \n",
       "20         0.00   0.00  ...   0.09  0.00   0.26  0.00  0.46    0.00   0.00   \n",
       "21         0.00   0.00  ...   0.00  0.00   0.00  0.00  0.68    0.00   0.00   \n",
       "22        26.34   0.00  ...   0.00  0.00   0.00  0.00  0.28    0.00   0.00   \n",
       "23        51.81   0.00  ...   0.00  0.00   0.00  0.00  0.00    0.00   0.00   \n",
       "24        50.61   0.00  ...   0.00  0.00   0.00  0.00  0.00    0.00   0.00   \n",
       "25        28.82   0.00  ...   0.00  0.00   0.00  0.00  0.00    0.00   0.00   \n",
       "26        27.62   0.00  ...   0.00  0.00   0.00  0.00  0.00    0.00   0.00   \n",
       "27        11.26   0.00  ...   0.00  0.00   0.00  0.00  0.00  137.15   0.00   \n",
       "28         0.27   0.00  ...   0.00  0.00   0.00  0.00  0.00  152.77   0.00   \n",
       "29         0.00   0.00  ...   0.00  0.00   0.00  0.00  0.00  171.32   0.00   \n",
       "30         0.00   0.00  ...   0.00  0.00   0.00  0.00  0.00  206.97   0.00   \n",
       "31         0.00   0.00  ...   0.00  0.00   0.00  0.00  0.00  127.95   0.00   \n",
       "32         0.00   0.00  ...   0.00  0.00   0.00  0.00  0.00   59.65   0.00   \n",
       "33         0.00   0.00  ...   0.00  0.00   0.00  0.00  0.00   21.71  17.56   \n",
       "34         0.00   0.00  ...   0.00  0.00   0.00  0.00  0.00    8.59  21.65   \n",
       "35         0.00   0.00  ...   0.00  0.00   0.00  0.00  0.00    3.75  22.03   \n",
       "36         0.00   0.00  ...   0.00  0.00   0.00  0.00  0.00    1.14  16.35   \n",
       "37         0.00   0.00  ...   0.00  0.00   0.00  0.00  0.00    0.18   4.60   \n",
       "\n",
       "platform    X360     XB   XOne  \n",
       "1           0.00   0.00   0.00  \n",
       "2           0.00   0.00   0.00  \n",
       "3           0.00   0.00   0.00  \n",
       "4           0.00   0.00   0.00  \n",
       "5           0.00   0.00   0.00  \n",
       "6           0.00   0.00   0.00  \n",
       "7           0.00   0.00   0.00  \n",
       "8           0.00   0.00   0.00  \n",
       "9           0.00   0.00   0.00  \n",
       "10          0.00   0.00   0.00  \n",
       "11          0.00   0.00   0.00  \n",
       "12          0.00   0.00   0.00  \n",
       "13          0.00   0.00   0.00  \n",
       "14          0.00   0.00   0.00  \n",
       "15          0.00   0.00   0.00  \n",
       "16          0.00   0.00   0.00  \n",
       "17          0.00   0.00   0.00  \n",
       "18          0.00   0.00   0.00  \n",
       "19          0.00   0.00   0.00  \n",
       "20          0.00   0.00   0.00  \n",
       "21          0.00   0.99   0.00  \n",
       "22          0.00  22.26   0.00  \n",
       "23          0.00  48.01   0.00  \n",
       "24          0.00  55.04   0.00  \n",
       "25          0.00  65.42   0.00  \n",
       "26          8.25  49.08   0.00  \n",
       "27         51.62  10.04   0.00  \n",
       "28         95.41   0.55   0.00  \n",
       "29        135.26   0.18   0.00  \n",
       "30        120.29   0.00   0.00  \n",
       "31        170.03   0.00   0.00  \n",
       "32        143.84   0.00   0.00  \n",
       "33         99.74   0.00   0.00  \n",
       "34         88.58   0.00  18.96  \n",
       "35         34.74   0.00  54.07  \n",
       "36         11.96   0.00  60.14  \n",
       "37          1.52   0.00  26.15  \n",
       "\n",
       "[37 rows x 32 columns]"
      ]
     },
     "execution_count": 20,
     "metadata": {},
     "output_type": "execute_result"
    }
   ],
   "source": [
    "platform_life.query('year_of_release > 0', inplace=True)\n",
    "platform_life"
   ]
  },
  {
   "cell_type": "code",
   "execution_count": 21,
   "metadata": {
    "scrolled": true,
    "trusted": true
   },
   "outputs": [
    {
     "data": {
      "text/html": [
       "<div>\n",
       "<style scoped>\n",
       "    .dataframe tbody tr th:only-of-type {\n",
       "        vertical-align: middle;\n",
       "    }\n",
       "\n",
       "    .dataframe tbody tr th {\n",
       "        vertical-align: top;\n",
       "    }\n",
       "\n",
       "    .dataframe thead th {\n",
       "        text-align: right;\n",
       "    }\n",
       "</style>\n",
       "<table border=\"1\" class=\"dataframe\">\n",
       "  <thead>\n",
       "    <tr style=\"text-align: right;\">\n",
       "      <th></th>\n",
       "      <th>name</th>\n",
       "      <th>platform</th>\n",
       "      <th>year_of_release</th>\n",
       "      <th>genre</th>\n",
       "      <th>na_sales</th>\n",
       "      <th>eu_sales</th>\n",
       "      <th>jp_sales</th>\n",
       "      <th>other_sales</th>\n",
       "      <th>critic_score</th>\n",
       "      <th>user_score</th>\n",
       "      <th>rating</th>\n",
       "      <th>total_sales</th>\n",
       "    </tr>\n",
       "  </thead>\n",
       "  <tbody>\n",
       "    <tr>\n",
       "      <th>2</th>\n",
       "      <td>Mario Kart Wii</td>\n",
       "      <td>Wii</td>\n",
       "      <td>2008</td>\n",
       "      <td>Racing</td>\n",
       "      <td>15.68</td>\n",
       "      <td>12.76</td>\n",
       "      <td>3.79</td>\n",
       "      <td>3.29</td>\n",
       "      <td>82.0</td>\n",
       "      <td>8.3</td>\n",
       "      <td>E</td>\n",
       "      <td>35.52</td>\n",
       "    </tr>\n",
       "    <tr>\n",
       "      <th>3</th>\n",
       "      <td>Wii Sports Resort</td>\n",
       "      <td>Wii</td>\n",
       "      <td>2009</td>\n",
       "      <td>Sports</td>\n",
       "      <td>15.61</td>\n",
       "      <td>10.93</td>\n",
       "      <td>3.28</td>\n",
       "      <td>2.95</td>\n",
       "      <td>80.0</td>\n",
       "      <td>8.0</td>\n",
       "      <td>E</td>\n",
       "      <td>32.77</td>\n",
       "    </tr>\n",
       "    <tr>\n",
       "      <th>8</th>\n",
       "      <td>New Super Mario Bros. Wii</td>\n",
       "      <td>Wii</td>\n",
       "      <td>2009</td>\n",
       "      <td>Platform</td>\n",
       "      <td>14.44</td>\n",
       "      <td>6.94</td>\n",
       "      <td>4.70</td>\n",
       "      <td>2.24</td>\n",
       "      <td>87.0</td>\n",
       "      <td>8.4</td>\n",
       "      <td>E</td>\n",
       "      <td>28.32</td>\n",
       "    </tr>\n",
       "    <tr>\n",
       "      <th>14</th>\n",
       "      <td>Kinect Adventures!</td>\n",
       "      <td>X360</td>\n",
       "      <td>2010</td>\n",
       "      <td>Misc</td>\n",
       "      <td>15.00</td>\n",
       "      <td>4.89</td>\n",
       "      <td>0.24</td>\n",
       "      <td>1.69</td>\n",
       "      <td>61.0</td>\n",
       "      <td>6.3</td>\n",
       "      <td>E</td>\n",
       "      <td>21.82</td>\n",
       "    </tr>\n",
       "    <tr>\n",
       "      <th>15</th>\n",
       "      <td>Wii Fit Plus</td>\n",
       "      <td>Wii</td>\n",
       "      <td>2009</td>\n",
       "      <td>Sports</td>\n",
       "      <td>9.01</td>\n",
       "      <td>8.49</td>\n",
       "      <td>2.53</td>\n",
       "      <td>1.77</td>\n",
       "      <td>80.0</td>\n",
       "      <td>7.4</td>\n",
       "      <td>E</td>\n",
       "      <td>21.80</td>\n",
       "    </tr>\n",
       "    <tr>\n",
       "      <th>...</th>\n",
       "      <td>...</td>\n",
       "      <td>...</td>\n",
       "      <td>...</td>\n",
       "      <td>...</td>\n",
       "      <td>...</td>\n",
       "      <td>...</td>\n",
       "      <td>...</td>\n",
       "      <td>...</td>\n",
       "      <td>...</td>\n",
       "      <td>...</td>\n",
       "      <td>...</td>\n",
       "      <td>...</td>\n",
       "    </tr>\n",
       "    <tr>\n",
       "      <th>16707</th>\n",
       "      <td>Aiyoku no Eustia</td>\n",
       "      <td>PSV</td>\n",
       "      <td>2014</td>\n",
       "      <td>Misc</td>\n",
       "      <td>0.00</td>\n",
       "      <td>0.00</td>\n",
       "      <td>0.01</td>\n",
       "      <td>0.00</td>\n",
       "      <td>NaN</td>\n",
       "      <td>NaN</td>\n",
       "      <td>rating desconocido</td>\n",
       "      <td>0.01</td>\n",
       "    </tr>\n",
       "    <tr>\n",
       "      <th>16709</th>\n",
       "      <td>SCORE International Baja 1000: The Official Game</td>\n",
       "      <td>PS2</td>\n",
       "      <td>2008</td>\n",
       "      <td>Racing</td>\n",
       "      <td>0.00</td>\n",
       "      <td>0.00</td>\n",
       "      <td>0.00</td>\n",
       "      <td>0.00</td>\n",
       "      <td>NaN</td>\n",
       "      <td>NaN</td>\n",
       "      <td>rating desconocido</td>\n",
       "      <td>0.00</td>\n",
       "    </tr>\n",
       "    <tr>\n",
       "      <th>16710</th>\n",
       "      <td>Samurai Warriors: Sanada Maru</td>\n",
       "      <td>PS3</td>\n",
       "      <td>2016</td>\n",
       "      <td>Action</td>\n",
       "      <td>0.00</td>\n",
       "      <td>0.00</td>\n",
       "      <td>0.01</td>\n",
       "      <td>0.00</td>\n",
       "      <td>NaN</td>\n",
       "      <td>NaN</td>\n",
       "      <td>rating desconocido</td>\n",
       "      <td>0.01</td>\n",
       "    </tr>\n",
       "    <tr>\n",
       "      <th>16712</th>\n",
       "      <td>Haitaka no Psychedelica</td>\n",
       "      <td>PSV</td>\n",
       "      <td>2016</td>\n",
       "      <td>Adventure</td>\n",
       "      <td>0.00</td>\n",
       "      <td>0.00</td>\n",
       "      <td>0.01</td>\n",
       "      <td>0.00</td>\n",
       "      <td>NaN</td>\n",
       "      <td>NaN</td>\n",
       "      <td>rating desconocido</td>\n",
       "      <td>0.01</td>\n",
       "    </tr>\n",
       "    <tr>\n",
       "      <th>16714</th>\n",
       "      <td>Winning Post 8 2016</td>\n",
       "      <td>PSV</td>\n",
       "      <td>2016</td>\n",
       "      <td>Simulation</td>\n",
       "      <td>0.00</td>\n",
       "      <td>0.00</td>\n",
       "      <td>0.01</td>\n",
       "      <td>0.00</td>\n",
       "      <td>NaN</td>\n",
       "      <td>NaN</td>\n",
       "      <td>rating desconocido</td>\n",
       "      <td>0.01</td>\n",
       "    </tr>\n",
       "  </tbody>\n",
       "</table>\n",
       "<p>8130 rows × 12 columns</p>\n",
       "</div>"
      ],
      "text/plain": [
       "                                                   name platform  \\\n",
       "2                                        Mario Kart Wii      Wii   \n",
       "3                                     Wii Sports Resort      Wii   \n",
       "8                             New Super Mario Bros. Wii      Wii   \n",
       "14                                   Kinect Adventures!     X360   \n",
       "15                                         Wii Fit Plus      Wii   \n",
       "...                                                 ...      ...   \n",
       "16707                                  Aiyoku no Eustia      PSV   \n",
       "16709  SCORE International Baja 1000: The Official Game      PS2   \n",
       "16710                     Samurai Warriors: Sanada Maru      PS3   \n",
       "16712                           Haitaka no Psychedelica      PSV   \n",
       "16714                               Winning Post 8 2016      PSV   \n",
       "\n",
       "       year_of_release       genre  na_sales  eu_sales  jp_sales  other_sales  \\\n",
       "2                 2008      Racing     15.68     12.76      3.79         3.29   \n",
       "3                 2009      Sports     15.61     10.93      3.28         2.95   \n",
       "8                 2009    Platform     14.44      6.94      4.70         2.24   \n",
       "14                2010        Misc     15.00      4.89      0.24         1.69   \n",
       "15                2009      Sports      9.01      8.49      2.53         1.77   \n",
       "...                ...         ...       ...       ...       ...          ...   \n",
       "16707             2014        Misc      0.00      0.00      0.01         0.00   \n",
       "16709             2008      Racing      0.00      0.00      0.00         0.00   \n",
       "16710             2016      Action      0.00      0.00      0.01         0.00   \n",
       "16712             2016   Adventure      0.00      0.00      0.01         0.00   \n",
       "16714             2016  Simulation      0.00      0.00      0.01         0.00   \n",
       "\n",
       "       critic_score  user_score              rating  total_sales  \n",
       "2              82.0         8.3                   E        35.52  \n",
       "3              80.0         8.0                   E        32.77  \n",
       "8              87.0         8.4                   E        28.32  \n",
       "14             61.0         6.3                   E        21.82  \n",
       "15             80.0         7.4                   E        21.80  \n",
       "...             ...         ...                 ...          ...  \n",
       "16707           NaN         NaN  rating desconocido         0.01  \n",
       "16709           NaN         NaN  rating desconocido         0.00  \n",
       "16710           NaN         NaN  rating desconocido         0.01  \n",
       "16712           NaN         NaN  rating desconocido         0.01  \n",
       "16714           NaN         NaN  rating desconocido         0.01  \n",
       "\n",
       "[8130 rows x 12 columns]"
      ]
     },
     "execution_count": 21,
     "metadata": {},
     "output_type": "execute_result"
    }
   ],
   "source": [
    "platform_analysis = df[df['year_of_release'] >= 2008]\n",
    "platform_analysis"
   ]
  },
  {
   "cell_type": "markdown",
   "metadata": {},
   "source": [
    "en esta tabla vamos a tomar referencias del 2008 en adelante que serian un ejemplo de nuestra anterior grafica sobre los años de lanzamientos y numeros de videojuegos sacados por año y donde vemos mas aumento significativo   "
   ]
  },
  {
   "cell_type": "code",
   "execution_count": 22,
   "metadata": {
    "scrolled": true,
    "trusted": true
   },
   "outputs": [
    {
     "data": {
      "text/html": [
       "<div>\n",
       "<style scoped>\n",
       "    .dataframe tbody tr th:only-of-type {\n",
       "        vertical-align: middle;\n",
       "    }\n",
       "\n",
       "    .dataframe tbody tr th {\n",
       "        vertical-align: top;\n",
       "    }\n",
       "\n",
       "    .dataframe thead th {\n",
       "        text-align: right;\n",
       "    }\n",
       "</style>\n",
       "<table border=\"1\" class=\"dataframe\">\n",
       "  <thead>\n",
       "    <tr style=\"text-align: right;\">\n",
       "      <th>platform</th>\n",
       "      <th>3DS</th>\n",
       "      <th>DC</th>\n",
       "      <th>DS</th>\n",
       "      <th>PC</th>\n",
       "      <th>PS2</th>\n",
       "      <th>PS3</th>\n",
       "      <th>PS4</th>\n",
       "      <th>PSP</th>\n",
       "      <th>PSV</th>\n",
       "      <th>Wii</th>\n",
       "      <th>WiiU</th>\n",
       "      <th>X360</th>\n",
       "      <th>XB</th>\n",
       "      <th>XOne</th>\n",
       "    </tr>\n",
       "    <tr>\n",
       "      <th>year_of_release</th>\n",
       "      <th></th>\n",
       "      <th></th>\n",
       "      <th></th>\n",
       "      <th></th>\n",
       "      <th></th>\n",
       "      <th></th>\n",
       "      <th></th>\n",
       "      <th></th>\n",
       "      <th></th>\n",
       "      <th></th>\n",
       "      <th></th>\n",
       "      <th></th>\n",
       "      <th></th>\n",
       "      <th></th>\n",
       "    </tr>\n",
       "  </thead>\n",
       "  <tbody>\n",
       "    <tr>\n",
       "      <th>2008</th>\n",
       "      <td>0.00</td>\n",
       "      <td>0.04</td>\n",
       "      <td>145.31</td>\n",
       "      <td>12.42</td>\n",
       "      <td>53.90</td>\n",
       "      <td>118.52</td>\n",
       "      <td>0.00</td>\n",
       "      <td>34.55</td>\n",
       "      <td>0.00</td>\n",
       "      <td>171.32</td>\n",
       "      <td>0.00</td>\n",
       "      <td>135.26</td>\n",
       "      <td>0.18</td>\n",
       "      <td>0.00</td>\n",
       "    </tr>\n",
       "    <tr>\n",
       "      <th>2009</th>\n",
       "      <td>0.00</td>\n",
       "      <td>0.00</td>\n",
       "      <td>119.54</td>\n",
       "      <td>16.91</td>\n",
       "      <td>26.40</td>\n",
       "      <td>130.93</td>\n",
       "      <td>0.00</td>\n",
       "      <td>37.78</td>\n",
       "      <td>0.00</td>\n",
       "      <td>206.97</td>\n",
       "      <td>0.00</td>\n",
       "      <td>120.29</td>\n",
       "      <td>0.00</td>\n",
       "      <td>0.00</td>\n",
       "    </tr>\n",
       "    <tr>\n",
       "      <th>2010</th>\n",
       "      <td>0.00</td>\n",
       "      <td>0.00</td>\n",
       "      <td>85.02</td>\n",
       "      <td>24.28</td>\n",
       "      <td>5.64</td>\n",
       "      <td>142.17</td>\n",
       "      <td>0.00</td>\n",
       "      <td>35.04</td>\n",
       "      <td>0.00</td>\n",
       "      <td>127.95</td>\n",
       "      <td>0.00</td>\n",
       "      <td>170.03</td>\n",
       "      <td>0.00</td>\n",
       "      <td>0.00</td>\n",
       "    </tr>\n",
       "    <tr>\n",
       "      <th>2011</th>\n",
       "      <td>63.20</td>\n",
       "      <td>0.00</td>\n",
       "      <td>26.18</td>\n",
       "      <td>35.03</td>\n",
       "      <td>0.45</td>\n",
       "      <td>156.78</td>\n",
       "      <td>0.00</td>\n",
       "      <td>17.82</td>\n",
       "      <td>4.63</td>\n",
       "      <td>59.65</td>\n",
       "      <td>0.00</td>\n",
       "      <td>143.84</td>\n",
       "      <td>0.00</td>\n",
       "      <td>0.00</td>\n",
       "    </tr>\n",
       "    <tr>\n",
       "      <th>2012</th>\n",
       "      <td>51.36</td>\n",
       "      <td>0.00</td>\n",
       "      <td>11.01</td>\n",
       "      <td>23.22</td>\n",
       "      <td>0.00</td>\n",
       "      <td>107.36</td>\n",
       "      <td>0.00</td>\n",
       "      <td>7.69</td>\n",
       "      <td>16.19</td>\n",
       "      <td>21.71</td>\n",
       "      <td>17.56</td>\n",
       "      <td>99.74</td>\n",
       "      <td>0.00</td>\n",
       "      <td>0.00</td>\n",
       "    </tr>\n",
       "    <tr>\n",
       "      <th>2013</th>\n",
       "      <td>56.57</td>\n",
       "      <td>0.00</td>\n",
       "      <td>1.54</td>\n",
       "      <td>12.38</td>\n",
       "      <td>0.00</td>\n",
       "      <td>113.25</td>\n",
       "      <td>25.99</td>\n",
       "      <td>3.14</td>\n",
       "      <td>10.59</td>\n",
       "      <td>8.59</td>\n",
       "      <td>21.65</td>\n",
       "      <td>88.58</td>\n",
       "      <td>0.00</td>\n",
       "      <td>18.96</td>\n",
       "    </tr>\n",
       "    <tr>\n",
       "      <th>2014</th>\n",
       "      <td>43.76</td>\n",
       "      <td>0.00</td>\n",
       "      <td>0.00</td>\n",
       "      <td>13.28</td>\n",
       "      <td>0.00</td>\n",
       "      <td>47.76</td>\n",
       "      <td>100.00</td>\n",
       "      <td>0.24</td>\n",
       "      <td>11.90</td>\n",
       "      <td>3.75</td>\n",
       "      <td>22.03</td>\n",
       "      <td>34.74</td>\n",
       "      <td>0.00</td>\n",
       "      <td>54.07</td>\n",
       "    </tr>\n",
       "    <tr>\n",
       "      <th>2015</th>\n",
       "      <td>27.78</td>\n",
       "      <td>0.00</td>\n",
       "      <td>0.00</td>\n",
       "      <td>8.52</td>\n",
       "      <td>0.00</td>\n",
       "      <td>16.82</td>\n",
       "      <td>118.90</td>\n",
       "      <td>0.12</td>\n",
       "      <td>6.25</td>\n",
       "      <td>1.14</td>\n",
       "      <td>16.35</td>\n",
       "      <td>11.96</td>\n",
       "      <td>0.00</td>\n",
       "      <td>60.14</td>\n",
       "    </tr>\n",
       "    <tr>\n",
       "      <th>2016</th>\n",
       "      <td>15.14</td>\n",
       "      <td>0.00</td>\n",
       "      <td>0.00</td>\n",
       "      <td>5.25</td>\n",
       "      <td>0.00</td>\n",
       "      <td>3.60</td>\n",
       "      <td>69.25</td>\n",
       "      <td>0.00</td>\n",
       "      <td>4.25</td>\n",
       "      <td>0.18</td>\n",
       "      <td>4.60</td>\n",
       "      <td>1.52</td>\n",
       "      <td>0.00</td>\n",
       "      <td>26.15</td>\n",
       "    </tr>\n",
       "  </tbody>\n",
       "</table>\n",
       "</div>"
      ],
      "text/plain": [
       "platform           3DS    DC      DS     PC    PS2     PS3     PS4    PSP  \\\n",
       "year_of_release                                                             \n",
       "2008              0.00  0.04  145.31  12.42  53.90  118.52    0.00  34.55   \n",
       "2009              0.00  0.00  119.54  16.91  26.40  130.93    0.00  37.78   \n",
       "2010              0.00  0.00   85.02  24.28   5.64  142.17    0.00  35.04   \n",
       "2011             63.20  0.00   26.18  35.03   0.45  156.78    0.00  17.82   \n",
       "2012             51.36  0.00   11.01  23.22   0.00  107.36    0.00   7.69   \n",
       "2013             56.57  0.00    1.54  12.38   0.00  113.25   25.99   3.14   \n",
       "2014             43.76  0.00    0.00  13.28   0.00   47.76  100.00   0.24   \n",
       "2015             27.78  0.00    0.00   8.52   0.00   16.82  118.90   0.12   \n",
       "2016             15.14  0.00    0.00   5.25   0.00    3.60   69.25   0.00   \n",
       "\n",
       "platform           PSV     Wii   WiiU    X360    XB   XOne  \n",
       "year_of_release                                             \n",
       "2008              0.00  171.32   0.00  135.26  0.18   0.00  \n",
       "2009              0.00  206.97   0.00  120.29  0.00   0.00  \n",
       "2010              0.00  127.95   0.00  170.03  0.00   0.00  \n",
       "2011              4.63   59.65   0.00  143.84  0.00   0.00  \n",
       "2012             16.19   21.71  17.56   99.74  0.00   0.00  \n",
       "2013             10.59    8.59  21.65   88.58  0.00  18.96  \n",
       "2014             11.90    3.75  22.03   34.74  0.00  54.07  \n",
       "2015              6.25    1.14  16.35   11.96  0.00  60.14  \n",
       "2016              4.25    0.18   4.60    1.52  0.00  26.15  "
      ]
     },
     "execution_count": 22,
     "metadata": {},
     "output_type": "execute_result"
    }
   ],
   "source": [
    "new_platform_life = platform_analysis.pivot_table(index = 'year_of_release', columns= 'platform', values='total_sales', aggfunc= 'sum').fillna(0)\n",
    "new_platform_life"
   ]
  },
  {
   "cell_type": "markdown",
   "metadata": {},
   "source": [
    "aqui agrupamos tanto ventas como plataformas del 2008 en adelante para visualizar los datos mas desglosados y claros para una mejor interpetacion "
   ]
  },
  {
   "cell_type": "code",
   "execution_count": 23,
   "metadata": {
    "trusted": true
   },
   "outputs": [
    {
     "data": {
      "text/plain": [
       "<Axes: xlabel='year_of_release'>"
      ]
     },
     "execution_count": 23,
     "metadata": {},
     "output_type": "execute_result"
    },
    {
     "data": {
      "image/png": "[encoded data removed]",
      "text/plain": [
       "<Figure size 640x480 with 1 Axes>"
      ]
     },
     "metadata": {},
     "output_type": "display_data"
    }
   ],
   "source": [
    "sns.lineplot(data=new_platform_life)"
   ]
  },
  {
   "cell_type": "markdown",
   "metadata": {},
   "source": [
    "en la siguiente tabla podemos observar los años de apogeo de las plataformas desde cual fue su mejor año hasta su decadencia en ventas curiosamente clara generacion dee consolas tiene aproximadamente 6 años de vida por lo que es primordial empezar con una nueva generacion para que las ventas no caigan tan negativamente "
   ]
  },
  {
   "cell_type": "code",
   "execution_count": 24,
   "metadata": {
    "trusted": true
   },
   "outputs": [
    {
     "data": {
      "text/html": [
       "<div>\n",
       "<style scoped>\n",
       "    .dataframe tbody tr th:only-of-type {\n",
       "        vertical-align: middle;\n",
       "    }\n",
       "\n",
       "    .dataframe tbody tr th {\n",
       "        vertical-align: top;\n",
       "    }\n",
       "\n",
       "    .dataframe thead th {\n",
       "        text-align: right;\n",
       "    }\n",
       "</style>\n",
       "<table border=\"1\" class=\"dataframe\">\n",
       "  <thead>\n",
       "    <tr style=\"text-align: right;\">\n",
       "      <th></th>\n",
       "      <th>year_of_release</th>\n",
       "      <th>platform</th>\n",
       "      <th>total_sales</th>\n",
       "    </tr>\n",
       "  </thead>\n",
       "  <tbody>\n",
       "    <tr>\n",
       "      <th>0</th>\n",
       "      <td>2008</td>\n",
       "      <td>DC</td>\n",
       "      <td>0.04</td>\n",
       "    </tr>\n",
       "    <tr>\n",
       "      <th>1</th>\n",
       "      <td>2008</td>\n",
       "      <td>DS</td>\n",
       "      <td>145.31</td>\n",
       "    </tr>\n",
       "    <tr>\n",
       "      <th>2</th>\n",
       "      <td>2008</td>\n",
       "      <td>PC</td>\n",
       "      <td>12.42</td>\n",
       "    </tr>\n",
       "    <tr>\n",
       "      <th>3</th>\n",
       "      <td>2008</td>\n",
       "      <td>PS2</td>\n",
       "      <td>53.90</td>\n",
       "    </tr>\n",
       "    <tr>\n",
       "      <th>4</th>\n",
       "      <td>2008</td>\n",
       "      <td>PS3</td>\n",
       "      <td>118.52</td>\n",
       "    </tr>\n",
       "    <tr>\n",
       "      <th>...</th>\n",
       "      <td>...</td>\n",
       "      <td>...</td>\n",
       "      <td>...</td>\n",
       "    </tr>\n",
       "    <tr>\n",
       "      <th>76</th>\n",
       "      <td>2016</td>\n",
       "      <td>PSV</td>\n",
       "      <td>4.25</td>\n",
       "    </tr>\n",
       "    <tr>\n",
       "      <th>77</th>\n",
       "      <td>2016</td>\n",
       "      <td>Wii</td>\n",
       "      <td>0.18</td>\n",
       "    </tr>\n",
       "    <tr>\n",
       "      <th>78</th>\n",
       "      <td>2016</td>\n",
       "      <td>WiiU</td>\n",
       "      <td>4.60</td>\n",
       "    </tr>\n",
       "    <tr>\n",
       "      <th>79</th>\n",
       "      <td>2016</td>\n",
       "      <td>X360</td>\n",
       "      <td>1.52</td>\n",
       "    </tr>\n",
       "    <tr>\n",
       "      <th>80</th>\n",
       "      <td>2016</td>\n",
       "      <td>XOne</td>\n",
       "      <td>26.15</td>\n",
       "    </tr>\n",
       "  </tbody>\n",
       "</table>\n",
       "<p>81 rows × 3 columns</p>\n",
       "</div>"
      ],
      "text/plain": [
       "    year_of_release platform  total_sales\n",
       "0              2008       DC         0.04\n",
       "1              2008       DS       145.31\n",
       "2              2008       PC        12.42\n",
       "3              2008      PS2        53.90\n",
       "4              2008      PS3       118.52\n",
       "..              ...      ...          ...\n",
       "76             2016      PSV         4.25\n",
       "77             2016      Wii         0.18\n",
       "78             2016     WiiU         4.60\n",
       "79             2016     X360         1.52\n",
       "80             2016     XOne        26.15\n",
       "\n",
       "[81 rows x 3 columns]"
      ]
     },
     "execution_count": 24,
     "metadata": {},
     "output_type": "execute_result"
    }
   ],
   "source": [
    "box_plot_analyst = platform_analysis.groupby(['year_of_release', 'platform']).agg({'total_sales' : 'sum'}).reset_index() \n",
    "box_plot_analyst  "
   ]
  },
  {
   "cell_type": "code",
   "execution_count": 25,
   "metadata": {
    "trusted": true
   },
   "outputs": [
    {
     "data": {
      "text/plain": [
       "<Axes: xlabel='platform', ylabel='total_sales'>"
      ]
     },
     "execution_count": 25,
     "metadata": {},
     "output_type": "execute_result"
    },
    {
     "data": {
      "image/png": "[encoded data removed]",
      "text/plain": [
       "<Figure size 640x480 with 1 Axes>"
      ]
     },
     "metadata": {},
     "output_type": "display_data"
    }
   ],
   "source": [
    "sns.boxplot(data=box_plot_analyst, x='platform', y='total_sales')"
   ]
  },
  {
   "cell_type": "markdown",
   "metadata": {},
   "source": [
    "en el boxplot vemos el desempeño de cada plataforma con las ventas las cuales vemos una variacion en las ventas significativamente diferentes las unas de las otras y las ventas promedio tambien cambian en pocos casos son similares "
   ]
  },
  {
   "cell_type": "code",
   "execution_count": 26,
   "metadata": {
    "trusted": true
   },
   "outputs": [
    {
     "data": {
      "text/html": [
       "<div>\n",
       "<style scoped>\n",
       "    .dataframe tbody tr th:only-of-type {\n",
       "        vertical-align: middle;\n",
       "    }\n",
       "\n",
       "    .dataframe tbody tr th {\n",
       "        vertical-align: top;\n",
       "    }\n",
       "\n",
       "    .dataframe thead th {\n",
       "        text-align: right;\n",
       "    }\n",
       "</style>\n",
       "<table border=\"1\" class=\"dataframe\">\n",
       "  <thead>\n",
       "    <tr style=\"text-align: right;\">\n",
       "      <th></th>\n",
       "      <th>platform</th>\n",
       "      <th>name</th>\n",
       "      <th>total_sales</th>\n",
       "      <th>critic_score</th>\n",
       "      <th>user_score</th>\n",
       "    </tr>\n",
       "  </thead>\n",
       "  <tbody>\n",
       "    <tr>\n",
       "      <th>0</th>\n",
       "      <td>XOne</td>\n",
       "      <td>7 Days to Die</td>\n",
       "      <td>0.05</td>\n",
       "      <td>35.0</td>\n",
       "      <td>5.2</td>\n",
       "    </tr>\n",
       "    <tr>\n",
       "      <th>1</th>\n",
       "      <td>XOne</td>\n",
       "      <td>Agatha Christie's The ABC Murders</td>\n",
       "      <td>0.01</td>\n",
       "      <td>66.0</td>\n",
       "      <td>7.5</td>\n",
       "    </tr>\n",
       "    <tr>\n",
       "      <th>2</th>\n",
       "      <td>XOne</td>\n",
       "      <td>Alien: Isolation</td>\n",
       "      <td>0.50</td>\n",
       "      <td>78.0</td>\n",
       "      <td>7.8</td>\n",
       "    </tr>\n",
       "    <tr>\n",
       "      <th>3</th>\n",
       "      <td>XOne</td>\n",
       "      <td>Angry Birds Star Wars</td>\n",
       "      <td>0.17</td>\n",
       "      <td>53.0</td>\n",
       "      <td>6.9</td>\n",
       "    </tr>\n",
       "    <tr>\n",
       "      <th>4</th>\n",
       "      <td>XOne</td>\n",
       "      <td>Assassin's Creed Syndicate</td>\n",
       "      <td>1.29</td>\n",
       "      <td>78.0</td>\n",
       "      <td>6.1</td>\n",
       "    </tr>\n",
       "    <tr>\n",
       "      <th>...</th>\n",
       "      <td>...</td>\n",
       "      <td>...</td>\n",
       "      <td>...</td>\n",
       "      <td>...</td>\n",
       "      <td>...</td>\n",
       "    </tr>\n",
       "    <tr>\n",
       "      <th>160</th>\n",
       "      <td>XOne</td>\n",
       "      <td>Wolfenstein: The Old Blood</td>\n",
       "      <td>0.15</td>\n",
       "      <td>75.0</td>\n",
       "      <td>8.0</td>\n",
       "    </tr>\n",
       "    <tr>\n",
       "      <th>161</th>\n",
       "      <td>XOne</td>\n",
       "      <td>Worms: WMD</td>\n",
       "      <td>0.01</td>\n",
       "      <td>75.0</td>\n",
       "      <td>8.1</td>\n",
       "    </tr>\n",
       "    <tr>\n",
       "      <th>162</th>\n",
       "      <td>XOne</td>\n",
       "      <td>XCOM 2</td>\n",
       "      <td>0.04</td>\n",
       "      <td>87.0</td>\n",
       "      <td>8.1</td>\n",
       "    </tr>\n",
       "    <tr>\n",
       "      <th>163</th>\n",
       "      <td>XOne</td>\n",
       "      <td>Zombie Army Trilogy</td>\n",
       "      <td>0.11</td>\n",
       "      <td>62.0</td>\n",
       "      <td>7.2</td>\n",
       "    </tr>\n",
       "    <tr>\n",
       "      <th>164</th>\n",
       "      <td>XOne</td>\n",
       "      <td>Zumba Fitness: World Party</td>\n",
       "      <td>0.24</td>\n",
       "      <td>73.0</td>\n",
       "      <td>6.2</td>\n",
       "    </tr>\n",
       "  </tbody>\n",
       "</table>\n",
       "<p>165 rows × 5 columns</p>\n",
       "</div>"
      ],
      "text/plain": [
       "    platform                               name  total_sales  critic_score  \\\n",
       "0       XOne                      7 Days to Die         0.05          35.0   \n",
       "1       XOne  Agatha Christie's The ABC Murders         0.01          66.0   \n",
       "2       XOne                   Alien: Isolation         0.50          78.0   \n",
       "3       XOne              Angry Birds Star Wars         0.17          53.0   \n",
       "4       XOne         Assassin's Creed Syndicate         1.29          78.0   \n",
       "..       ...                                ...          ...           ...   \n",
       "160     XOne         Wolfenstein: The Old Blood         0.15          75.0   \n",
       "161     XOne                         Worms: WMD         0.01          75.0   \n",
       "162     XOne                             XCOM 2         0.04          87.0   \n",
       "163     XOne                Zombie Army Trilogy         0.11          62.0   \n",
       "164     XOne         Zumba Fitness: World Party         0.24          73.0   \n",
       "\n",
       "     user_score  \n",
       "0           5.2  \n",
       "1           7.5  \n",
       "2           7.8  \n",
       "3           6.9  \n",
       "4           6.1  \n",
       "..          ...  \n",
       "160         8.0  \n",
       "161         8.1  \n",
       "162         8.1  \n",
       "163         7.2  \n",
       "164         6.2  \n",
       "\n",
       "[165 rows x 5 columns]"
      ]
     },
     "execution_count": 26,
     "metadata": {},
     "output_type": "execute_result"
    }
   ],
   "source": [
    "XOne_data = platform_analysis.groupby(['platform','name'])[['total_sales' , 'critic_score', 'user_score']].sum().query('platform == \"XOne\" & critic_score > 0 & user_score > 0').reset_index()\n",
    "XOne_data"
   ]
  },
  {
   "cell_type": "markdown",
   "metadata": {},
   "source": [
    "en esta tabla desglosamos 3 factores importantes para ver si influyende alguna manera tomamos las columnas de ventas totales  el critic score y el user score para ver que tanto afectan estas opiniones en las ventas "
   ]
  },
  {
   "cell_type": "code",
   "execution_count": 27,
   "metadata": {
    "trusted": true
   },
   "outputs": [
    {
     "name": "stdout",
     "output_type": "stream",
     "text": [
      "la correlacion entre la paltaforma y el critic score es de  0.41042203561296414\n"
     ]
    }
   ],
   "source": [
    "XOne_corr = XOne_data['total_sales'].corr(XOne_data['critic_score'])\n",
    "\n",
    "print('la correlacion entre la paltaforma y el critic score es de ', XOne_corr)"
   ]
  },
  {
   "cell_type": "code",
   "execution_count": 28,
   "metadata": {
    "trusted": true
   },
   "outputs": [
    {
     "data": {
      "text/plain": [
       "<Axes: xlabel='critic_score', ylabel='total_sales'>"
      ]
     },
     "execution_count": 28,
     "metadata": {},
     "output_type": "execute_result"
    },
    {
     "data": {
      "image/png": "[encoded data removed]",
      "text/plain": [
       "<Figure size 640x480 with 1 Axes>"
      ]
     },
     "metadata": {},
     "output_type": "display_data"
    }
   ],
   "source": [
    "sns.scatterplot(data = XOne_data, x='critic_score', y= 'total_sales')"
   ]
  },
  {
   "cell_type": "code",
   "execution_count": 29,
   "metadata": {
    "trusted": true
   },
   "outputs": [
    {
     "data": {
      "text/plain": [
       "-0.09400318326920867"
      ]
     },
     "execution_count": 29,
     "metadata": {},
     "output_type": "execute_result"
    }
   ],
   "source": [
    "XOne_corr_user = XOne_data['total_sales'].corr(XOne_data['user_score'])\n",
    "XOne_corr_user"
   ]
  },
  {
   "cell_type": "code",
   "execution_count": 30,
   "metadata": {
    "trusted": true
   },
   "outputs": [
    {
     "data": {
      "text/plain": [
       "<Axes: xlabel='user_score', ylabel='total_sales'>"
      ]
     },
     "execution_count": 30,
     "metadata": {},
     "output_type": "execute_result"
    },
    {
     "data": {
      "image/png": "[encoded data removed]",
      "text/plain": [
       "<Figure size 640x480 with 1 Axes>"
      ]
     },
     "metadata": {},
     "output_type": "display_data"
    }
   ],
   "source": [
    "sns.scatterplot(data = XOne_data, x='user_score', y= 'total_sales')"
   ]
  },
  {
   "cell_type": "markdown",
   "metadata": {},
   "source": [
    "aqui verificamos la correlacion de que hay en los 3 factores antes mencionados y vemos que de alguna  en el user score la correlacion es negativa pero hay algunas excepciones por mas baja que sea la calicacion en muy pocos caos hay buenas ventas y en calificaciones reegulares tambien, en el critic score vemos casos similares al el user score pero se inclina mas hacia mejor puntaje mejor es la venta de aquel videojuego "
   ]
  },
  {
   "cell_type": "code",
   "execution_count": 31,
   "metadata": {
    "trusted": true
   },
   "outputs": [],
   "source": [
    "def correlacion(platforms):\n",
    "    data = platform_analysis[platform_analysis['platform'] == platforms]\n",
    "    corr = data[['critic_score', 'user_score','total_sales']].corr()['total_sales']\n",
    "\n",
    "    data.plot(y='total_sales', x= 'critic_score', kind='scatter', grid=True)\n",
    "    plt.title(platforms)\n",
    "\n",
    "    data.plot(y='total_sales', x= 'user_score', kind='scatter', grid=True)\n",
    "    plt.title(platforms)\n",
    "\n",
    "    print(platforms , corr)\n",
    "    print('...........')  "
   ]
  },
  {
   "cell_type": "markdown",
   "metadata": {},
   "source": [
    "ahora vamos a declarar una funcion para enerar las mismas tablas pero en todas las plataformas para tenerlas en cuenta tambien y las mismas correlaciones asi ampliamos un poco mas el panorama de las plataformas"
   ]
  },
  {
   "cell_type": "code",
   "execution_count": 32,
   "metadata": {
    "trusted": true
   },
   "outputs": [],
   "source": [
    "data_genre = platform_analysis.groupby(['genre', 'name'])['total_sales'].sum().reset_index()\n",
    "data_genre.query('1 < total_sales< 10', inplace=True )"
   ]
  },
  {
   "cell_type": "code",
   "execution_count": 33,
   "metadata": {
    "trusted": true
   },
   "outputs": [
    {
     "name": "stdout",
     "output_type": "stream",
     "text": [
      "PS4 critic_score    0.406568\n",
      "user_score     -0.031957\n",
      "total_sales     1.000000\n",
      "Name: total_sales, dtype: float64\n",
      "...........\n",
      "wiiU critic_score   NaN\n",
      "user_score     NaN\n",
      "total_sales    NaN\n",
      "Name: total_sales, dtype: float64\n",
      "...........\n",
      "Wii critic_score    0.225109\n",
      "user_score      0.130242\n",
      "total_sales     1.000000\n",
      "Name: total_sales, dtype: float64\n",
      "...........\n",
      "X360 critic_score    0.388653\n",
      "user_score      0.101101\n",
      "total_sales     1.000000\n",
      "Name: total_sales, dtype: float64\n",
      "...........\n",
      "PS3 critic_score    0.433732\n",
      "user_score      0.115080\n",
      "total_sales     1.000000\n",
      "Name: total_sales, dtype: float64\n",
      "...........\n",
      "XOne critic_score    0.416998\n",
      "user_score     -0.068925\n",
      "total_sales     1.000000\n",
      "Name: total_sales, dtype: float64\n",
      "...........\n"
     ]
    },
    {
     "data": {
      "image/png": "[encoded data removed]",
      "text/plain": [
       "<Figure size 640x480 with 1 Axes>"
      ]
     },
     "metadata": {},
     "output_type": "display_data"
    },
    {
     "data": {
      "image/png": "[encoded data removed]",
      "text/plain": [
       "<Figure size 640x480 with 1 Axes>"
      ]
     },
     "metadata": {},
     "output_type": "display_data"
    },
    {
     "data": {
      "image/png": "[encoded data removed]",
      "text/plain": [
       "<Figure size 640x480 with 1 Axes>"
      ]
     },
     "metadata": {},
     "output_type": "display_data"
    },
    {
     "data": {
      "image/png": "[encoded data removed]",
      "text/plain": [
       "<Figure size 640x480 with 1 Axes>"
      ]
     },
     "metadata": {},
     "output_type": "display_data"
    },
    {
     "data": {
      "image/png": "[encoded data removed]",
      "text/plain": [
       "<Figure size 640x480 with 1 Axes>"
      ]
     },
     "metadata": {},
     "output_type": "display_data"
    },
    {
     "data": {
      "image/png": "[encoded data removed]",
      "text/plain": [
       "<Figure size 640x480 with 1 Axes>"
      ]
     },
     "metadata": {},
     "output_type": "display_data"
    },
    {
     "data": {
      "image/png": "[encoded data removed]",
      "text/plain": [
       "<Figure size 640x480 with 1 Axes>"
      ]
     },
     "metadata": {},
     "output_type": "display_data"
    },
    {
     "data": {
      "image/png": "[encoded data removed]",
      "text/plain": [
       "<Figure size 640x480 with 1 Axes>"
      ]
     },
     "metadata": {},
     "output_type": "display_data"
    },
    {
     "data": {
      "image/png": "[encoded data removed]",
      "text/plain": [
       "<Figure size 640x480 with 1 Axes>"
      ]
     },
     "metadata": {},
     "output_type": "display_data"
    },
    {
     "data": {
      "image/png": "[encoded data removed]",
      "text/plain": [
       "<Figure size 640x480 with 1 Axes>"
      ]
     },
     "metadata": {},
     "output_type": "display_data"
    },
    {
     "data": {
      "image/png": "[encoded data removed]",
      "text/plain": [
       "<Figure size 640x480 with 1 Axes>"
      ]
     },
     "metadata": {},
     "output_type": "display_data"
    },
    {
     "data": {
      "image/png": "[encoded data removed]",
      "text/plain": [
       "<Figure size 640x480 with 1 Axes>"
      ]
     },
     "metadata": {},
     "output_type": "display_data"
    }
   ],
   "source": [
    "platforms = ['PS4', 'wiiU','Wii','X360', 'PS3', 'XOne' ]\n",
    "for platform in platforms:\n",
    "     correlacion(platform)\n"
   ]
  },
  {
   "cell_type": "code",
   "execution_count": 34,
   "metadata": {
    "scrolled": true,
    "trusted": true
   },
   "outputs": [
    {
     "data": {
      "text/plain": [
       "([0, 1, 2, 3, 4, 5, 6, 7, 8, 9, 10, 11],\n",
       " [Text(0, 0, 'Action'),\n",
       "  Text(1, 0, 'Adventure'),\n",
       "  Text(2, 0, 'Fighting'),\n",
       "  Text(3, 0, 'Misc'),\n",
       "  Text(4, 0, 'Platform'),\n",
       "  Text(5, 0, 'Puzzle'),\n",
       "  Text(6, 0, 'Racing'),\n",
       "  Text(7, 0, 'Role-Playing'),\n",
       "  Text(8, 0, 'Shooter'),\n",
       "  Text(9, 0, 'Simulation'),\n",
       "  Text(10, 0, 'Sports'),\n",
       "  Text(11, 0, 'Strategy')])"
      ]
     },
     "execution_count": 34,
     "metadata": {},
     "output_type": "execute_result"
    },
    {
     "data": {
      "image/png": "[encoded data removed]",
      "text/plain": [
       "<Figure size 640x480 with 1 Axes>"
      ]
     },
     "metadata": {},
     "output_type": "display_data"
    }
   ],
   "source": [
    "sns.boxplot(data=data_genre, x='genre', y='total_sales',)\n",
    "plt.xticks(rotation=45)"
   ]
  },
  {
   "cell_type": "markdown",
   "metadata": {},
   "source": [
    "en el siguiente diagrama de caja vamos a analizar los datos de genero de videojuegos en algunos casos las ventas promedio estan a la par por sus objetivos de ventas unos cuantos por de bajo ya que no se espera la misma aceptacion por los usuarios y otros poco suben un poco mas su espectativa "
   ]
  },
  {
   "cell_type": "code",
   "execution_count": 35,
   "metadata": {
    "trusted": true
   },
   "outputs": [
    {
     "data": {
      "text/html": [
       "<div>\n",
       "<style scoped>\n",
       "    .dataframe tbody tr th:only-of-type {\n",
       "        vertical-align: middle;\n",
       "    }\n",
       "\n",
       "    .dataframe tbody tr th {\n",
       "        vertical-align: top;\n",
       "    }\n",
       "\n",
       "    .dataframe thead th {\n",
       "        text-align: right;\n",
       "    }\n",
       "</style>\n",
       "<table border=\"1\" class=\"dataframe\">\n",
       "  <thead>\n",
       "    <tr style=\"text-align: right;\">\n",
       "      <th></th>\n",
       "      <th>platform</th>\n",
       "      <th>na_sales</th>\n",
       "    </tr>\n",
       "  </thead>\n",
       "  <tbody>\n",
       "    <tr>\n",
       "      <th>11</th>\n",
       "      <td>X360</td>\n",
       "      <td>490.69</td>\n",
       "    </tr>\n",
       "    <tr>\n",
       "      <th>5</th>\n",
       "      <td>PS3</td>\n",
       "      <td>349.13</td>\n",
       "    </tr>\n",
       "    <tr>\n",
       "      <th>9</th>\n",
       "      <td>Wii</td>\n",
       "      <td>332.87</td>\n",
       "    </tr>\n",
       "    <tr>\n",
       "      <th>2</th>\n",
       "      <td>DS</td>\n",
       "      <td>198.73</td>\n",
       "    </tr>\n",
       "    <tr>\n",
       "      <th>6</th>\n",
       "      <td>PS4</td>\n",
       "      <td>108.74</td>\n",
       "    </tr>\n",
       "  </tbody>\n",
       "</table>\n",
       "</div>"
      ],
      "text/plain": [
       "   platform  na_sales\n",
       "11     X360    490.69\n",
       "5       PS3    349.13\n",
       "9       Wii    332.87\n",
       "2        DS    198.73\n",
       "6       PS4    108.74"
      ]
     },
     "execution_count": 35,
     "metadata": {},
     "output_type": "execute_result"
    }
   ],
   "source": [
    "na_platform = platform_analysis.groupby('platform')['na_sales'].sum().reset_index().sort_values(by= 'na_sales', ascending=False)\n",
    "na_platform.head()"
   ]
  },
  {
   "cell_type": "code",
   "execution_count": 36,
   "metadata": {
    "scrolled": true,
    "trusted": true
   },
   "outputs": [
    {
     "data": {
      "text/html": [
       "<div>\n",
       "<style scoped>\n",
       "    .dataframe tbody tr th:only-of-type {\n",
       "        vertical-align: middle;\n",
       "    }\n",
       "\n",
       "    .dataframe tbody tr th {\n",
       "        vertical-align: top;\n",
       "    }\n",
       "\n",
       "    .dataframe thead th {\n",
       "        text-align: right;\n",
       "    }\n",
       "</style>\n",
       "<table border=\"1\" class=\"dataframe\">\n",
       "  <thead>\n",
       "    <tr style=\"text-align: right;\">\n",
       "      <th></th>\n",
       "      <th>platform</th>\n",
       "      <th>eu_sales</th>\n",
       "    </tr>\n",
       "  </thead>\n",
       "  <tbody>\n",
       "    <tr>\n",
       "      <th>5</th>\n",
       "      <td>PS3</td>\n",
       "      <td>293.73</td>\n",
       "    </tr>\n",
       "    <tr>\n",
       "      <th>11</th>\n",
       "      <td>X360</td>\n",
       "      <td>234.88</td>\n",
       "    </tr>\n",
       "    <tr>\n",
       "      <th>9</th>\n",
       "      <td>Wii</td>\n",
       "      <td>170.74</td>\n",
       "    </tr>\n",
       "    <tr>\n",
       "      <th>6</th>\n",
       "      <td>PS4</td>\n",
       "      <td>141.09</td>\n",
       "    </tr>\n",
       "    <tr>\n",
       "      <th>3</th>\n",
       "      <td>PC</td>\n",
       "      <td>92.17</td>\n",
       "    </tr>\n",
       "  </tbody>\n",
       "</table>\n",
       "</div>"
      ],
      "text/plain": [
       "   platform  eu_sales\n",
       "5       PS3    293.73\n",
       "11     X360    234.88\n",
       "9       Wii    170.74\n",
       "6       PS4    141.09\n",
       "3        PC     92.17"
      ]
     },
     "execution_count": 36,
     "metadata": {},
     "output_type": "execute_result"
    }
   ],
   "source": [
    "eu_platform = platform_analysis.groupby('platform')['eu_sales'].sum().reset_index().sort_values(by= 'eu_sales', ascending=False)\n",
    "eu_platform.head()"
   ]
  },
  {
   "cell_type": "code",
   "execution_count": 37,
   "metadata": {
    "trusted": true
   },
   "outputs": [
    {
     "data": {
      "text/html": [
       "<div>\n",
       "<style scoped>\n",
       "    .dataframe tbody tr th:only-of-type {\n",
       "        vertical-align: middle;\n",
       "    }\n",
       "\n",
       "    .dataframe tbody tr th {\n",
       "        vertical-align: top;\n",
       "    }\n",
       "\n",
       "    .dataframe thead th {\n",
       "        text-align: right;\n",
       "    }\n",
       "</style>\n",
       "<table border=\"1\" class=\"dataframe\">\n",
       "  <thead>\n",
       "    <tr style=\"text-align: right;\">\n",
       "      <th></th>\n",
       "      <th>platform</th>\n",
       "      <th>jp_sales</th>\n",
       "    </tr>\n",
       "  </thead>\n",
       "  <tbody>\n",
       "    <tr>\n",
       "      <th>0</th>\n",
       "      <td>3DS</td>\n",
       "      <td>100.62</td>\n",
       "    </tr>\n",
       "    <tr>\n",
       "      <th>2</th>\n",
       "      <td>DS</td>\n",
       "      <td>76.12</td>\n",
       "    </tr>\n",
       "    <tr>\n",
       "      <th>5</th>\n",
       "      <td>PS3</td>\n",
       "      <td>74.11</td>\n",
       "    </tr>\n",
       "    <tr>\n",
       "      <th>7</th>\n",
       "      <td>PSP</td>\n",
       "      <td>60.46</td>\n",
       "    </tr>\n",
       "    <tr>\n",
       "      <th>9</th>\n",
       "      <td>Wii</td>\n",
       "      <td>47.01</td>\n",
       "    </tr>\n",
       "  </tbody>\n",
       "</table>\n",
       "</div>"
      ],
      "text/plain": [
       "  platform  jp_sales\n",
       "0      3DS    100.62\n",
       "2       DS     76.12\n",
       "5      PS3     74.11\n",
       "7      PSP     60.46\n",
       "9      Wii     47.01"
      ]
     },
     "execution_count": 37,
     "metadata": {},
     "output_type": "execute_result"
    }
   ],
   "source": [
    "jp_platform = platform_analysis.groupby('platform')['jp_sales'].sum().reset_index().sort_values(by= 'jp_sales', ascending=False)\n",
    "jp_platform.head()"
   ]
  },
  {
   "cell_type": "markdown",
   "metadata": {},
   "source": [
    "en estas 3 tablas podemos ver las ventas de las regiones por  las 5 mejores plataformas como es obvio no en todas las regiones se venden de manera igual sino que hay diferentes lideres por ejemplo en reiones europeas el ps3 es la lider mientras que en japon el 3ds es su lider de ventas "
   ]
  },
  {
   "cell_type": "code",
   "execution_count": 38,
   "metadata": {
    "trusted": true
   },
   "outputs": [
    {
     "name": "stdout",
     "output_type": "stream",
     "text": [
      "   platform  na_sales  na_market_share\n",
      "11     X360    490.69        27.040476\n",
      "5       PS3    349.13        19.239523\n",
      "9       Wii    332.87        18.343482\n",
      "2        DS    198.73        10.951423\n",
      "6       PS4    108.74         5.992340\n",
      "   platform  eu_sales  eu_market_share\n",
      "5       PS3    293.73        24.269390\n",
      "11     X360    234.88        19.406919\n",
      "9       Wii    170.74        14.107363\n",
      "6       PS4    141.09        11.657537\n",
      "3        PC     92.17         7.615530\n",
      "  platform  jp_sales  jp_market_share\n",
      "0      3DS    100.62        23.548961\n",
      "2       DS     76.12        17.815016\n",
      "5      PS3     74.11        17.344598\n",
      "7      PSP     60.46        14.149972\n",
      "9      Wii     47.01        11.002153\n"
     ]
    }
   ],
   "source": [
    "na_platform['na_market_share'] = na_platform['na_sales']*100/na_platform['na_sales'].sum()\n",
    "print(na_platform.head())\n",
    "\n",
    "eu_platform['eu_market_share'] = eu_platform['eu_sales']*100/eu_platform['eu_sales'].sum()\n",
    "print(eu_platform.head())\n",
    "\n",
    "jp_platform['jp_market_share'] = jp_platform['jp_sales']*100/jp_platform['jp_sales'].sum()\n",
    "print(jp_platform.head())"
   ]
  },
  {
   "cell_type": "markdown",
   "metadata": {},
   "source": [
    "en esta tabla vemos las cuotas de mercado de cada region si lo tomamos como porcentajes xbox 360 se lleva el 27% de las ventas en norte america ps3 24% de las ventas en las regiones europeas  y en japon el 3ds se lleo el 23 % de las ventas "
   ]
  },
  {
   "cell_type": "code",
   "execution_count": 39,
   "metadata": {
    "trusted": true
   },
   "outputs": [
    {
     "data": {
      "text/html": [
       "<div>\n",
       "<style scoped>\n",
       "    .dataframe tbody tr th:only-of-type {\n",
       "        vertical-align: middle;\n",
       "    }\n",
       "\n",
       "    .dataframe tbody tr th {\n",
       "        vertical-align: top;\n",
       "    }\n",
       "\n",
       "    .dataframe thead th {\n",
       "        text-align: right;\n",
       "    }\n",
       "</style>\n",
       "<table border=\"1\" class=\"dataframe\">\n",
       "  <thead>\n",
       "    <tr style=\"text-align: right;\">\n",
       "      <th></th>\n",
       "      <th>genre</th>\n",
       "      <th>na_sales</th>\n",
       "    </tr>\n",
       "  </thead>\n",
       "  <tbody>\n",
       "    <tr>\n",
       "      <th>0</th>\n",
       "      <td>Action</td>\n",
       "      <td>433.74</td>\n",
       "    </tr>\n",
       "    <tr>\n",
       "      <th>8</th>\n",
       "      <td>Shooter</td>\n",
       "      <td>311.26</td>\n",
       "    </tr>\n",
       "    <tr>\n",
       "      <th>10</th>\n",
       "      <td>Sports</td>\n",
       "      <td>276.27</td>\n",
       "    </tr>\n",
       "    <tr>\n",
       "      <th>3</th>\n",
       "      <td>Misc</td>\n",
       "      <td>211.61</td>\n",
       "    </tr>\n",
       "    <tr>\n",
       "      <th>7</th>\n",
       "      <td>Role-Playing</td>\n",
       "      <td>155.81</td>\n",
       "    </tr>\n",
       "  </tbody>\n",
       "</table>\n",
       "</div>"
      ],
      "text/plain": [
       "           genre  na_sales\n",
       "0         Action    433.74\n",
       "8        Shooter    311.26\n",
       "10        Sports    276.27\n",
       "3           Misc    211.61\n",
       "7   Role-Playing    155.81"
      ]
     },
     "execution_count": 39,
     "metadata": {},
     "output_type": "execute_result"
    }
   ],
   "source": [
    "na_genre = platform_analysis.groupby('genre')['na_sales'].sum().reset_index().sort_values(by= 'na_sales', ascending=False)\n",
    "na_genre.head()"
   ]
  },
  {
   "cell_type": "code",
   "execution_count": 40,
   "metadata": {
    "trusted": true
   },
   "outputs": [
    {
     "data": {
      "text/html": [
       "<div>\n",
       "<style scoped>\n",
       "    .dataframe tbody tr th:only-of-type {\n",
       "        vertical-align: middle;\n",
       "    }\n",
       "\n",
       "    .dataframe tbody tr th {\n",
       "        vertical-align: top;\n",
       "    }\n",
       "\n",
       "    .dataframe thead th {\n",
       "        text-align: right;\n",
       "    }\n",
       "</style>\n",
       "<table border=\"1\" class=\"dataframe\">\n",
       "  <thead>\n",
       "    <tr style=\"text-align: right;\">\n",
       "      <th></th>\n",
       "      <th>genre</th>\n",
       "      <th>eu_sales</th>\n",
       "    </tr>\n",
       "  </thead>\n",
       "  <tbody>\n",
       "    <tr>\n",
       "      <th>0</th>\n",
       "      <td>Action</td>\n",
       "      <td>310.59</td>\n",
       "    </tr>\n",
       "    <tr>\n",
       "      <th>8</th>\n",
       "      <td>Shooter</td>\n",
       "      <td>208.35</td>\n",
       "    </tr>\n",
       "    <tr>\n",
       "      <th>10</th>\n",
       "      <td>Sports</td>\n",
       "      <td>185.19</td>\n",
       "    </tr>\n",
       "    <tr>\n",
       "      <th>3</th>\n",
       "      <td>Misc</td>\n",
       "      <td>107.00</td>\n",
       "    </tr>\n",
       "    <tr>\n",
       "      <th>7</th>\n",
       "      <td>Role-Playing</td>\n",
       "      <td>94.46</td>\n",
       "    </tr>\n",
       "  </tbody>\n",
       "</table>\n",
       "</div>"
      ],
      "text/plain": [
       "           genre  eu_sales\n",
       "0         Action    310.59\n",
       "8        Shooter    208.35\n",
       "10        Sports    185.19\n",
       "3           Misc    107.00\n",
       "7   Role-Playing     94.46"
      ]
     },
     "execution_count": 40,
     "metadata": {},
     "output_type": "execute_result"
    }
   ],
   "source": [
    "eu_genre = platform_analysis.groupby('genre')['eu_sales'].sum().reset_index().sort_values(by= 'eu_sales', ascending=False)\n",
    "eu_genre.head()"
   ]
  },
  {
   "cell_type": "code",
   "execution_count": 41,
   "metadata": {
    "trusted": true
   },
   "outputs": [
    {
     "data": {
      "text/html": [
       "<div>\n",
       "<style scoped>\n",
       "    .dataframe tbody tr th:only-of-type {\n",
       "        vertical-align: middle;\n",
       "    }\n",
       "\n",
       "    .dataframe tbody tr th {\n",
       "        vertical-align: top;\n",
       "    }\n",
       "\n",
       "    .dataframe thead th {\n",
       "        text-align: right;\n",
       "    }\n",
       "</style>\n",
       "<table border=\"1\" class=\"dataframe\">\n",
       "  <thead>\n",
       "    <tr style=\"text-align: right;\">\n",
       "      <th></th>\n",
       "      <th>genre</th>\n",
       "      <th>jp_sales</th>\n",
       "    </tr>\n",
       "  </thead>\n",
       "  <tbody>\n",
       "    <tr>\n",
       "      <th>7</th>\n",
       "      <td>Role-Playing</td>\n",
       "      <td>138.12</td>\n",
       "    </tr>\n",
       "    <tr>\n",
       "      <th>0</th>\n",
       "      <td>Action</td>\n",
       "      <td>90.16</td>\n",
       "    </tr>\n",
       "    <tr>\n",
       "      <th>3</th>\n",
       "      <td>Misc</td>\n",
       "      <td>37.33</td>\n",
       "    </tr>\n",
       "    <tr>\n",
       "      <th>10</th>\n",
       "      <td>Sports</td>\n",
       "      <td>30.69</td>\n",
       "    </tr>\n",
       "    <tr>\n",
       "      <th>1</th>\n",
       "      <td>Adventure</td>\n",
       "      <td>23.36</td>\n",
       "    </tr>\n",
       "  </tbody>\n",
       "</table>\n",
       "</div>"
      ],
      "text/plain": [
       "           genre  jp_sales\n",
       "7   Role-Playing    138.12\n",
       "0         Action     90.16\n",
       "3           Misc     37.33\n",
       "10        Sports     30.69\n",
       "1      Adventure     23.36"
      ]
     },
     "execution_count": 41,
     "metadata": {},
     "output_type": "execute_result"
    }
   ],
   "source": [
    "jp_genre = platform_analysis.groupby('genre')['jp_sales'].sum().reset_index().sort_values(by= 'jp_sales', ascending=False)\n",
    "jp_genre.head()"
   ]
  },
  {
   "cell_type": "markdown",
   "metadata": {},
   "source": [
    "hacemos las mismas comparaciones pero ahora con las ventas y  genero para ver que genero es el mas vendido tanto en norte america como en europa el lider es el genero  de accion  y el japon es el rol-play \n"
   ]
  },
  {
   "cell_type": "code",
   "execution_count": 42,
   "metadata": {
    "trusted": true
   },
   "outputs": [
    {
     "data": {
      "text/html": [
       "<div>\n",
       "<style scoped>\n",
       "    .dataframe tbody tr th:only-of-type {\n",
       "        vertical-align: middle;\n",
       "    }\n",
       "\n",
       "    .dataframe tbody tr th {\n",
       "        vertical-align: top;\n",
       "    }\n",
       "\n",
       "    .dataframe thead th {\n",
       "        text-align: right;\n",
       "    }\n",
       "</style>\n",
       "<table border=\"1\" class=\"dataframe\">\n",
       "  <thead>\n",
       "    <tr style=\"text-align: right;\">\n",
       "      <th></th>\n",
       "      <th>rating</th>\n",
       "      <th>na_sales</th>\n",
       "    </tr>\n",
       "  </thead>\n",
       "  <tbody>\n",
       "    <tr>\n",
       "      <th>0</th>\n",
       "      <td>E</td>\n",
       "      <td>536.93</td>\n",
       "    </tr>\n",
       "    <tr>\n",
       "      <th>3</th>\n",
       "      <td>M</td>\n",
       "      <td>502.60</td>\n",
       "    </tr>\n",
       "    <tr>\n",
       "      <th>5</th>\n",
       "      <td>T</td>\n",
       "      <td>303.41</td>\n",
       "    </tr>\n",
       "    <tr>\n",
       "      <th>1</th>\n",
       "      <td>E10+</td>\n",
       "      <td>251.88</td>\n",
       "    </tr>\n",
       "    <tr>\n",
       "      <th>6</th>\n",
       "      <td>rating desconocido</td>\n",
       "      <td>218.51</td>\n",
       "    </tr>\n",
       "  </tbody>\n",
       "</table>\n",
       "</div>"
      ],
      "text/plain": [
       "               rating  na_sales\n",
       "0                   E    536.93\n",
       "3                   M    502.60\n",
       "5                   T    303.41\n",
       "1                E10+    251.88\n",
       "6  rating desconocido    218.51"
      ]
     },
     "execution_count": 42,
     "metadata": {},
     "output_type": "execute_result"
    }
   ],
   "source": [
    "na_rating = platform_analysis.groupby('rating')['na_sales'].sum().reset_index().sort_values(by= 'na_sales', ascending=False)\n",
    "na_rating.head()"
   ]
  },
  {
   "cell_type": "code",
   "execution_count": 43,
   "metadata": {
    "trusted": true
   },
   "outputs": [
    {
     "data": {
      "text/html": [
       "<div>\n",
       "<style scoped>\n",
       "    .dataframe tbody tr th:only-of-type {\n",
       "        vertical-align: middle;\n",
       "    }\n",
       "\n",
       "    .dataframe tbody tr th {\n",
       "        vertical-align: top;\n",
       "    }\n",
       "\n",
       "    .dataframe thead th {\n",
       "        text-align: right;\n",
       "    }\n",
       "</style>\n",
       "<table border=\"1\" class=\"dataframe\">\n",
       "  <thead>\n",
       "    <tr style=\"text-align: right;\">\n",
       "      <th></th>\n",
       "      <th>rating</th>\n",
       "      <th>eu_sales</th>\n",
       "    </tr>\n",
       "  </thead>\n",
       "  <tbody>\n",
       "    <tr>\n",
       "      <th>3</th>\n",
       "      <td>M</td>\n",
       "      <td>362.65</td>\n",
       "    </tr>\n",
       "    <tr>\n",
       "      <th>0</th>\n",
       "      <td>E</td>\n",
       "      <td>326.61</td>\n",
       "    </tr>\n",
       "    <tr>\n",
       "      <th>6</th>\n",
       "      <td>rating desconocido</td>\n",
       "      <td>188.85</td>\n",
       "    </tr>\n",
       "    <tr>\n",
       "      <th>5</th>\n",
       "      <td>T</td>\n",
       "      <td>187.62</td>\n",
       "    </tr>\n",
       "    <tr>\n",
       "      <th>1</th>\n",
       "      <td>E10+</td>\n",
       "      <td>144.53</td>\n",
       "    </tr>\n",
       "  </tbody>\n",
       "</table>\n",
       "</div>"
      ],
      "text/plain": [
       "               rating  eu_sales\n",
       "3                   M    362.65\n",
       "0                   E    326.61\n",
       "6  rating desconocido    188.85\n",
       "5                   T    187.62\n",
       "1                E10+    144.53"
      ]
     },
     "execution_count": 43,
     "metadata": {},
     "output_type": "execute_result"
    }
   ],
   "source": [
    "eu_rating = platform_analysis.groupby('rating')['eu_sales'].sum().reset_index().sort_values(by= 'eu_sales', ascending=False)\n",
    "eu_rating.head()"
   ]
  },
  {
   "cell_type": "code",
   "execution_count": 44,
   "metadata": {
    "trusted": true
   },
   "outputs": [
    {
     "data": {
      "text/html": [
       "<div>\n",
       "<style scoped>\n",
       "    .dataframe tbody tr th:only-of-type {\n",
       "        vertical-align: middle;\n",
       "    }\n",
       "\n",
       "    .dataframe tbody tr th {\n",
       "        vertical-align: top;\n",
       "    }\n",
       "\n",
       "    .dataframe thead th {\n",
       "        text-align: right;\n",
       "    }\n",
       "</style>\n",
       "<table border=\"1\" class=\"dataframe\">\n",
       "  <thead>\n",
       "    <tr style=\"text-align: right;\">\n",
       "      <th></th>\n",
       "      <th>rating</th>\n",
       "      <th>jp_sales</th>\n",
       "    </tr>\n",
       "  </thead>\n",
       "  <tbody>\n",
       "    <tr>\n",
       "      <th>6</th>\n",
       "      <td>rating desconocido</td>\n",
       "      <td>220.60</td>\n",
       "    </tr>\n",
       "    <tr>\n",
       "      <th>0</th>\n",
       "      <td>E</td>\n",
       "      <td>77.17</td>\n",
       "    </tr>\n",
       "    <tr>\n",
       "      <th>5</th>\n",
       "      <td>T</td>\n",
       "      <td>64.51</td>\n",
       "    </tr>\n",
       "    <tr>\n",
       "      <th>3</th>\n",
       "      <td>M</td>\n",
       "      <td>39.33</td>\n",
       "    </tr>\n",
       "    <tr>\n",
       "      <th>1</th>\n",
       "      <td>E10+</td>\n",
       "      <td>25.67</td>\n",
       "    </tr>\n",
       "  </tbody>\n",
       "</table>\n",
       "</div>"
      ],
      "text/plain": [
       "               rating  jp_sales\n",
       "6  rating desconocido    220.60\n",
       "0                   E     77.17\n",
       "5                   T     64.51\n",
       "3                   M     39.33\n",
       "1                E10+     25.67"
      ]
     },
     "execution_count": 44,
     "metadata": {},
     "output_type": "execute_result"
    }
   ],
   "source": [
    "jp_rating = platform_analysis.groupby('rating')['jp_sales'].sum().reset_index().sort_values(by= 'jp_sales', ascending=False)\n",
    "jp_rating.head()"
   ]
  },
  {
   "cell_type": "markdown",
   "metadata": {},
   "source": [
    "en este caso la clasificacion tambien hace cambios por cada region importantes lo que nos da a ver que no en toda las regiones se tiene permitido ciertos tipos de libertades o visualizaciones y en los 3 casos tambien se consume rating que todavaia no se evalua  "
   ]
  },
  {
   "cell_type": "code",
   "execution_count": 45,
   "metadata": {
    "trusted": true
   },
   "outputs": [
    {
     "name": "stdout",
     "output_type": "stream",
     "text": [
      "Rechazamos la hipótesis nula. Las calificaciones promedio son diferentes.\n"
     ]
    }
   ],
   "source": [
    "xbox_one_scores = df[df['platform'] == 'XOne']['user_score'].dropna()\n",
    "pc_scores = df[df['platform'] == 'PC']['user_score'].dropna()\n",
    "\n",
    "\n",
    "t_stat, p_value = stats.ttest_ind(xbox_one_scores, pc_scores)\n",
    "\n",
    "\n",
    "\n",
    "alpha = 0.05  \n",
    "if p_value < alpha:\n",
    "    print(\"Rechazamos la hipótesis nula. Las calificaciones promedio son diferentes.\")\n",
    "else:\n",
    "    print(\"No rechazamos la hipótesis nula. Las calificaciones promedio son iguales.\")"
   ]
  },
  {
   "cell_type": "markdown",
   "metadata": {},
   "source": [
    "en este caso hicimos una hipotesis nula las calificaciones promedio son iguales  una hipotesis alternativa donde sean calificaciones promedio diferentes por lo cual tomando en cuenta nuestro valor p rechazamos la hipotesis nula asi que los puntajes promedio son diferentes "
   ]
  },
  {
   "cell_type": "code",
   "execution_count": 46,
   "metadata": {
    "trusted": true
   },
   "outputs": [
    {
     "name": "stdout",
     "output_type": "stream",
     "text": [
      "No rechazamos la hipótesis nula. Las calificaciones promedio son iguales.\n"
     ]
    }
   ],
   "source": [
    "accion_scores = platform_analysis[platform_analysis['genre'] == 'action']['user_score'].dropna()\n",
    "deportes_scores = platform_analysis[platform_analysis['genre'] == 'sports']['user_score'].dropna()\n",
    "\n",
    "\n",
    "t_stat, p_value = stats.ttest_ind(accion_scores, deportes_scores)\n",
    "\n",
    "\n",
    "alpha = 0.05  \n",
    "if p_value < alpha:\n",
    "    print(\"Rechazamos la hipótesis nula. Las calificaciones promedio son diferentes.\")\n",
    "else:\n",
    "    print(\"No rechazamos la hipótesis nula. Las calificaciones promedio son iguales.\")"
   ]
  },
  {
   "cell_type": "markdown",
   "metadata": {},
   "source": [
    "en este otro caso nuestra hipotesis nula es basandonos en el genero de accion y sport con el user score dado a que los usuarios tienen mucho criteio en estos puntajes me base en esto entoces nuestra hipotesis nula es si las calificaciones promedio son iguales y nuestra hipotesis alternativa se basa en es si el promedio es diferente "
   ]
  },
  {
   "cell_type": "markdown",
   "metadata": {},
   "source": []
  },
  {
   "cell_type": "markdown",
   "metadata": {},
   "source": [
    "En conclusion por lo que pudimos analizar no en todas las regiones se consume lo mismo tanto genero como clasificacion influye mucho en es, hay consolas que son dominantes en cada tipo de region no hay un patron que todos sigan por igual ya que tanto gusto y preferencia cambia demasiado a esto le tenemos que sumar que por ende las ventas van a ser completamente diferentes en los mercados de estas regiones en un caso particular podemos ver que ps2 domino como una de las plataformas mas rentables en su tiempo de vida y quee tambien el tiempo de vida de una plataforma es maximos 6 años para despues sacar una nueva generacion y de ahi ira dependiendo las criticas profecionales para su venta ya que muchas personas se basan en puntajes para verificar si estan haciendo una buena compra o no y tal vez dejan su criterio propio a un lado por seguir los puntajes  "
   ]
  }
 ],
 "metadata": {
  "ExecuteTimeLog": [
   {
    "duration": 2585,
    "start_time": "2024-09-27T04:16:49.977Z"
   },
   {
    "duration": 574,
    "start_time": "2024-09-27T04:17:24.031Z"
   },
   {
    "duration": 2,
    "start_time": "2024-09-27T04:17:27.341Z"
   },
   {
    "duration": 57,
    "start_time": "2024-09-27T04:17:29.414Z"
   },
   {
    "duration": 66,
    "start_time": "2024-09-27T04:17:32.152Z"
   },
   {
    "duration": 3,
    "start_time": "2024-09-27T04:17:34.031Z"
   },
   {
    "duration": 58,
    "start_time": "2024-09-27T04:17:36.876Z"
   },
   {
    "duration": 13,
    "start_time": "2024-09-27T04:18:20.093Z"
   },
   {
    "duration": 781,
    "start_time": "2024-09-27T04:18:41.168Z"
   },
   {
    "duration": 567,
    "start_time": "2024-09-27T04:18:43.112Z"
   },
   {
    "duration": 62,
    "start_time": "2024-09-27T04:19:34.743Z"
   },
   {
    "duration": 69,
    "start_time": "2024-09-27T04:19:52.957Z"
   },
   {
    "duration": 5,
    "start_time": "2024-09-27T04:21:14.506Z"
   },
   {
    "duration": 58,
    "start_time": "2024-09-27T04:21:30.529Z"
   },
   {
    "duration": 48,
    "start_time": "2024-09-27T04:21:54.737Z"
   },
   {
    "duration": 3,
    "start_time": "2024-09-27T04:21:59.345Z"
   },
   {
    "duration": 808,
    "start_time": "2024-09-27T04:22:11.323Z"
   },
   {
    "duration": 37,
    "start_time": "2024-09-27T04:22:12.133Z"
   },
   {
    "duration": 10,
    "start_time": "2024-09-27T04:22:12.172Z"
   },
   {
    "duration": 3,
    "start_time": "2024-09-27T04:22:31.093Z"
   },
   {
    "duration": 4,
    "start_time": "2024-09-27T04:22:38.815Z"
   },
   {
    "duration": 3,
    "start_time": "2024-09-27T04:22:40.793Z"
   },
   {
    "duration": 7,
    "start_time": "2024-09-27T04:22:54.336Z"
   },
   {
    "duration": 3,
    "start_time": "2024-09-27T04:23:18.739Z"
   },
   {
    "duration": 4,
    "start_time": "2024-09-27T04:23:58.241Z"
   },
   {
    "duration": 4,
    "start_time": "2024-09-27T04:24:16.985Z"
   },
   {
    "duration": 3,
    "start_time": "2024-09-27T04:24:38.188Z"
   },
   {
    "duration": 5,
    "start_time": "2024-09-27T04:24:40.211Z"
   },
   {
    "duration": 4,
    "start_time": "2024-09-27T04:24:55.027Z"
   },
   {
    "duration": 5,
    "start_time": "2024-09-27T04:25:09.547Z"
   },
   {
    "duration": 22,
    "start_time": "2024-09-27T04:25:30.372Z"
   },
   {
    "duration": 11,
    "start_time": "2024-09-27T04:25:49.073Z"
   },
   {
    "duration": 10,
    "start_time": "2024-09-27T04:25:55.147Z"
   },
   {
    "duration": 110,
    "start_time": "2024-09-27T04:26:13.264Z"
   },
   {
    "duration": 8,
    "start_time": "2024-09-27T04:26:30.426Z"
   },
   {
    "duration": 4,
    "start_time": "2024-09-27T04:26:47.228Z"
   },
   {
    "duration": 3,
    "start_time": "2024-09-27T04:27:01.578Z"
   },
   {
    "duration": 165,
    "start_time": "2024-09-27T04:27:16.056Z"
   },
   {
    "duration": 11,
    "start_time": "2024-09-27T04:27:31.099Z"
   },
   {
    "duration": 95,
    "start_time": "2024-09-27T04:27:44.517Z"
   },
   {
    "duration": 16,
    "start_time": "2024-09-27T04:28:08.099Z"
   },
   {
    "duration": 21,
    "start_time": "2024-09-27T04:28:21.655Z"
   },
   {
    "duration": 324,
    "start_time": "2024-09-27T04:28:34.524Z"
   },
   {
    "duration": 14,
    "start_time": "2024-09-27T04:29:04.494Z"
   },
   {
    "duration": 206,
    "start_time": "2024-09-27T04:29:18.226Z"
   },
   {
    "duration": 26,
    "start_time": "2024-09-27T04:29:40.407Z"
   },
   {
    "duration": 4,
    "start_time": "2024-09-27T04:30:01.931Z"
   },
   {
    "duration": 112,
    "start_time": "2024-09-27T04:30:14.728Z"
   },
   {
    "duration": 5,
    "start_time": "2024-09-27T04:30:30.700Z"
   },
   {
    "duration": 108,
    "start_time": "2024-09-27T04:30:41.150Z"
   },
   {
    "duration": 3,
    "start_time": "2024-09-27T04:31:02.881Z"
   },
   {
    "duration": 1344,
    "start_time": "2024-09-27T04:31:23.930Z"
   },
   {
    "duration": 1299,
    "start_time": "2024-09-27T04:31:47.496Z"
   },
   {
    "duration": 11,
    "start_time": "2024-09-27T04:32:16.860Z"
   },
   {
    "duration": 207,
    "start_time": "2024-09-27T04:32:28.226Z"
   },
   {
    "duration": 12,
    "start_time": "2024-09-27T04:32:42.594Z"
   },
   {
    "duration": 182,
    "start_time": "2024-09-27T04:32:44.976Z"
   },
   {
    "duration": 3,
    "start_time": "2024-09-27T04:33:15.862Z"
   },
   {
    "duration": 595,
    "start_time": "2024-09-27T04:33:21.791Z"
   },
   {
    "duration": 266,
    "start_time": "2024-09-27T04:35:11.594Z"
   },
   {
    "duration": 186,
    "start_time": "2024-09-27T04:37:07.328Z"
   },
   {
    "duration": 3,
    "start_time": "2024-09-27T04:37:30.609Z"
   },
   {
    "duration": 3,
    "start_time": "2024-09-27T04:37:38.714Z"
   },
   {
    "duration": 183,
    "start_time": "2024-09-27T04:37:50.586Z"
   },
   {
    "duration": 187,
    "start_time": "2024-09-27T04:39:08.738Z"
   },
   {
    "duration": 191,
    "start_time": "2024-09-27T04:39:14.221Z"
   },
   {
    "duration": 9,
    "start_time": "2024-09-27T04:47:48.109Z"
   },
   {
    "duration": 10,
    "start_time": "2024-09-27T06:20:11.491Z"
   },
   {
    "duration": 8,
    "start_time": "2024-09-27T06:20:23.755Z"
   },
   {
    "duration": 9,
    "start_time": "2024-09-27T06:20:36.099Z"
   },
   {
    "duration": 10,
    "start_time": "2024-09-27T06:20:53.939Z"
   },
   {
    "duration": 3,
    "start_time": "2024-09-27T06:33:13.403Z"
   },
   {
    "duration": 154,
    "start_time": "2024-09-27T19:30:30.842Z"
   },
   {
    "duration": 2484,
    "start_time": "2024-09-27T19:30:38.669Z"
   },
   {
    "duration": 49,
    "start_time": "2024-09-27T19:30:41.155Z"
   },
   {
    "duration": 10,
    "start_time": "2024-09-27T19:30:41.205Z"
   },
   {
    "duration": 8,
    "start_time": "2024-09-27T19:30:41.218Z"
   },
   {
    "duration": 3,
    "start_time": "2024-09-27T19:30:41.228Z"
   },
   {
    "duration": 4,
    "start_time": "2024-09-27T19:30:41.232Z"
   },
   {
    "duration": 3,
    "start_time": "2024-09-27T19:30:41.238Z"
   },
   {
    "duration": 4,
    "start_time": "2024-09-27T19:30:41.242Z"
   },
   {
    "duration": 5,
    "start_time": "2024-09-27T19:30:41.247Z"
   },
   {
    "duration": 3,
    "start_time": "2024-09-27T19:30:41.255Z"
   },
   {
    "duration": 5,
    "start_time": "2024-09-27T19:30:41.260Z"
   },
   {
    "duration": 318,
    "start_time": "2024-09-27T19:30:41.266Z"
   },
   {
    "duration": 0,
    "start_time": "2024-09-27T19:30:41.587Z"
   },
   {
    "duration": 0,
    "start_time": "2024-09-27T19:30:41.588Z"
   },
   {
    "duration": 0,
    "start_time": "2024-09-27T19:30:41.589Z"
   },
   {
    "duration": 0,
    "start_time": "2024-09-27T19:30:41.590Z"
   },
   {
    "duration": 0,
    "start_time": "2024-09-27T19:30:41.591Z"
   },
   {
    "duration": 0,
    "start_time": "2024-09-27T19:30:41.592Z"
   },
   {
    "duration": 0,
    "start_time": "2024-09-27T19:30:41.592Z"
   },
   {
    "duration": 0,
    "start_time": "2024-09-27T19:30:41.594Z"
   },
   {
    "duration": 0,
    "start_time": "2024-09-27T19:30:41.596Z"
   },
   {
    "duration": 0,
    "start_time": "2024-09-27T19:30:41.598Z"
   },
   {
    "duration": 0,
    "start_time": "2024-09-27T19:30:41.600Z"
   },
   {
    "duration": 0,
    "start_time": "2024-09-27T19:30:41.624Z"
   },
   {
    "duration": 0,
    "start_time": "2024-09-27T19:30:41.626Z"
   },
   {
    "duration": 0,
    "start_time": "2024-09-27T19:30:41.628Z"
   },
   {
    "duration": 0,
    "start_time": "2024-09-27T19:30:41.629Z"
   },
   {
    "duration": 0,
    "start_time": "2024-09-27T19:30:41.630Z"
   },
   {
    "duration": 0,
    "start_time": "2024-09-27T19:30:41.632Z"
   },
   {
    "duration": 0,
    "start_time": "2024-09-27T19:30:41.633Z"
   },
   {
    "duration": 0,
    "start_time": "2024-09-27T19:30:41.634Z"
   },
   {
    "duration": 0,
    "start_time": "2024-09-27T19:30:41.635Z"
   },
   {
    "duration": 0,
    "start_time": "2024-09-27T19:30:41.636Z"
   },
   {
    "duration": 0,
    "start_time": "2024-09-27T19:30:41.638Z"
   },
   {
    "duration": 0,
    "start_time": "2024-09-27T19:30:41.639Z"
   },
   {
    "duration": 0,
    "start_time": "2024-09-27T19:30:41.640Z"
   },
   {
    "duration": 0,
    "start_time": "2024-09-27T19:30:41.641Z"
   },
   {
    "duration": 780,
    "start_time": "2024-09-27T19:31:07.972Z"
   },
   {
    "duration": 30,
    "start_time": "2024-09-27T19:31:08.755Z"
   },
   {
    "duration": 12,
    "start_time": "2024-09-27T19:31:08.787Z"
   },
   {
    "duration": 24,
    "start_time": "2024-09-27T19:31:08.801Z"
   },
   {
    "duration": 3,
    "start_time": "2024-09-27T19:31:08.828Z"
   },
   {
    "duration": 4,
    "start_time": "2024-09-27T19:31:08.832Z"
   },
   {
    "duration": 4,
    "start_time": "2024-09-27T19:31:08.837Z"
   },
   {
    "duration": 3,
    "start_time": "2024-09-27T19:31:08.842Z"
   },
   {
    "duration": 5,
    "start_time": "2024-09-27T19:31:08.847Z"
   },
   {
    "duration": 3,
    "start_time": "2024-09-27T19:31:08.853Z"
   },
   {
    "duration": 5,
    "start_time": "2024-09-27T19:31:08.858Z"
   },
   {
    "duration": 359,
    "start_time": "2024-09-27T19:31:08.864Z"
   },
   {
    "duration": 0,
    "start_time": "2024-09-27T19:31:09.226Z"
   },
   {
    "duration": 0,
    "start_time": "2024-09-27T19:31:09.227Z"
   },
   {
    "duration": 0,
    "start_time": "2024-09-27T19:31:09.228Z"
   },
   {
    "duration": 0,
    "start_time": "2024-09-27T19:31:09.229Z"
   },
   {
    "duration": 0,
    "start_time": "2024-09-27T19:31:09.231Z"
   },
   {
    "duration": 0,
    "start_time": "2024-09-27T19:31:09.232Z"
   },
   {
    "duration": 0,
    "start_time": "2024-09-27T19:31:09.233Z"
   },
   {
    "duration": 0,
    "start_time": "2024-09-27T19:31:09.236Z"
   },
   {
    "duration": 0,
    "start_time": "2024-09-27T19:31:09.237Z"
   },
   {
    "duration": 0,
    "start_time": "2024-09-27T19:31:09.239Z"
   },
   {
    "duration": 0,
    "start_time": "2024-09-27T19:31:09.240Z"
   },
   {
    "duration": 0,
    "start_time": "2024-09-27T19:31:09.241Z"
   },
   {
    "duration": 0,
    "start_time": "2024-09-27T19:31:09.243Z"
   },
   {
    "duration": 0,
    "start_time": "2024-09-27T19:31:09.245Z"
   },
   {
    "duration": 0,
    "start_time": "2024-09-27T19:31:09.246Z"
   },
   {
    "duration": 0,
    "start_time": "2024-09-27T19:31:09.248Z"
   },
   {
    "duration": 0,
    "start_time": "2024-09-27T19:31:09.249Z"
   },
   {
    "duration": 0,
    "start_time": "2024-09-27T19:31:09.251Z"
   },
   {
    "duration": 0,
    "start_time": "2024-09-27T19:31:09.252Z"
   },
   {
    "duration": 0,
    "start_time": "2024-09-27T19:31:09.254Z"
   },
   {
    "duration": 0,
    "start_time": "2024-09-27T19:31:09.255Z"
   },
   {
    "duration": 0,
    "start_time": "2024-09-27T19:31:09.257Z"
   },
   {
    "duration": 0,
    "start_time": "2024-09-27T19:31:09.258Z"
   },
   {
    "duration": 0,
    "start_time": "2024-09-27T19:31:09.260Z"
   },
   {
    "duration": 0,
    "start_time": "2024-09-27T19:31:09.261Z"
   },
   {
    "duration": 19,
    "start_time": "2024-09-27T19:31:19.692Z"
   },
   {
    "duration": 14,
    "start_time": "2024-09-27T19:31:34.447Z"
   },
   {
    "duration": 111,
    "start_time": "2024-09-27T19:38:53.089Z"
   },
   {
    "duration": 7,
    "start_time": "2024-09-27T19:41:34.778Z"
   },
   {
    "duration": 2507,
    "start_time": "2024-09-28T06:50:03.635Z"
   },
   {
    "duration": 45,
    "start_time": "2024-09-28T06:50:06.144Z"
   },
   {
    "duration": 11,
    "start_time": "2024-09-28T06:50:06.190Z"
   },
   {
    "duration": 6,
    "start_time": "2024-09-28T06:50:06.203Z"
   },
   {
    "duration": 3,
    "start_time": "2024-09-28T06:50:06.210Z"
   },
   {
    "duration": 12,
    "start_time": "2024-09-28T06:50:06.214Z"
   },
   {
    "duration": 4,
    "start_time": "2024-09-28T06:50:06.227Z"
   },
   {
    "duration": 4,
    "start_time": "2024-09-28T06:50:06.233Z"
   },
   {
    "duration": 6,
    "start_time": "2024-09-28T06:50:06.238Z"
   },
   {
    "duration": 3,
    "start_time": "2024-09-28T06:50:06.247Z"
   },
   {
    "duration": 5,
    "start_time": "2024-09-28T06:50:06.252Z"
   },
   {
    "duration": 13,
    "start_time": "2024-09-28T06:50:06.258Z"
   },
   {
    "duration": 153,
    "start_time": "2024-09-28T06:50:06.272Z"
   },
   {
    "duration": 8,
    "start_time": "2024-09-28T06:50:06.426Z"
   },
   {
    "duration": 5,
    "start_time": "2024-09-28T06:50:06.435Z"
   },
   {
    "duration": 0,
    "start_time": "2024-09-28T06:50:06.442Z"
   },
   {
    "duration": 0,
    "start_time": "2024-09-28T06:50:06.444Z"
   },
   {
    "duration": 0,
    "start_time": "2024-09-28T06:50:06.445Z"
   },
   {
    "duration": 0,
    "start_time": "2024-09-28T06:50:06.446Z"
   },
   {
    "duration": 0,
    "start_time": "2024-09-28T06:50:06.448Z"
   },
   {
    "duration": 0,
    "start_time": "2024-09-28T06:50:06.449Z"
   },
   {
    "duration": 0,
    "start_time": "2024-09-28T06:50:06.450Z"
   },
   {
    "duration": 0,
    "start_time": "2024-09-28T06:50:06.451Z"
   },
   {
    "duration": 0,
    "start_time": "2024-09-28T06:50:06.454Z"
   },
   {
    "duration": 0,
    "start_time": "2024-09-28T06:50:06.455Z"
   },
   {
    "duration": 0,
    "start_time": "2024-09-28T06:50:06.456Z"
   },
   {
    "duration": 0,
    "start_time": "2024-09-28T06:50:06.458Z"
   },
   {
    "duration": 0,
    "start_time": "2024-09-28T06:50:06.460Z"
   },
   {
    "duration": 0,
    "start_time": "2024-09-28T06:50:06.461Z"
   },
   {
    "duration": 0,
    "start_time": "2024-09-28T06:50:06.462Z"
   },
   {
    "duration": 0,
    "start_time": "2024-09-28T06:50:06.464Z"
   },
   {
    "duration": 0,
    "start_time": "2024-09-28T06:50:06.465Z"
   },
   {
    "duration": 0,
    "start_time": "2024-09-28T06:50:06.467Z"
   },
   {
    "duration": 0,
    "start_time": "2024-09-28T06:50:06.468Z"
   },
   {
    "duration": 0,
    "start_time": "2024-09-28T06:50:06.469Z"
   },
   {
    "duration": 0,
    "start_time": "2024-09-28T06:50:06.471Z"
   },
   {
    "duration": 0,
    "start_time": "2024-09-28T06:50:06.525Z"
   },
   {
    "duration": 0,
    "start_time": "2024-09-28T06:50:06.526Z"
   },
   {
    "duration": 4,
    "start_time": "2024-09-28T06:50:23.343Z"
   },
   {
    "duration": 3,
    "start_time": "2024-09-28T06:50:26.067Z"
   },
   {
    "duration": 159,
    "start_time": "2024-09-28T06:50:28.205Z"
   },
   {
    "duration": 11,
    "start_time": "2024-09-28T07:09:35.656Z"
   },
   {
    "duration": 38,
    "start_time": "2024-09-28T07:09:36.893Z"
   },
   {
    "duration": 17,
    "start_time": "2024-09-28T07:09:37.461Z"
   },
   {
    "duration": 21,
    "start_time": "2024-09-28T07:09:38.841Z"
   },
   {
    "duration": 316,
    "start_time": "2024-09-28T07:09:39.409Z"
   },
   {
    "duration": 12,
    "start_time": "2024-09-28T07:09:39.768Z"
   },
   {
    "duration": 242,
    "start_time": "2024-09-28T07:09:40.091Z"
   },
   {
    "duration": 19,
    "start_time": "2024-09-28T07:09:40.378Z"
   },
   {
    "duration": 3,
    "start_time": "2024-09-28T07:09:40.640Z"
   },
   {
    "duration": 121,
    "start_time": "2024-09-28T07:09:40.860Z"
   },
   {
    "duration": 4,
    "start_time": "2024-09-28T07:09:41.115Z"
   },
   {
    "duration": 118,
    "start_time": "2024-09-28T07:09:41.325Z"
   },
   {
    "duration": 3,
    "start_time": "2024-09-28T07:09:41.590Z"
   },
   {
    "duration": 1260,
    "start_time": "2024-09-28T07:09:41.832Z"
   },
   {
    "duration": 12,
    "start_time": "2024-09-28T07:09:43.094Z"
   },
   {
    "duration": 200,
    "start_time": "2024-09-28T07:09:43.108Z"
   },
   {
    "duration": 15,
    "start_time": "2024-09-28T07:09:43.310Z"
   },
   {
    "duration": 8,
    "start_time": "2024-09-28T07:09:43.326Z"
   },
   {
    "duration": 8,
    "start_time": "2024-09-28T07:09:43.335Z"
   },
   {
    "duration": 10,
    "start_time": "2024-09-28T07:09:43.355Z"
   },
   {
    "duration": 3,
    "start_time": "2024-09-28T07:31:53.197Z"
   },
   {
    "duration": 197,
    "start_time": "2024-09-28T09:15:04.456Z"
   },
   {
    "duration": 107,
    "start_time": "2024-09-28T09:15:33.896Z"
   },
   {
    "duration": 16,
    "start_time": "2024-09-28T09:16:21.106Z"
   },
   {
    "duration": 9,
    "start_time": "2024-09-28T09:16:41.721Z"
   },
   {
    "duration": 9,
    "start_time": "2024-09-28T09:17:10.258Z"
   },
   {
    "duration": 9,
    "start_time": "2024-09-28T09:18:07.474Z"
   },
   {
    "duration": 9,
    "start_time": "2024-09-28T09:18:10.530Z"
   },
   {
    "duration": 9,
    "start_time": "2024-09-28T09:18:46.838Z"
   },
   {
    "duration": 8,
    "start_time": "2024-09-28T09:19:09.128Z"
   },
   {
    "duration": 9,
    "start_time": "2024-09-28T09:19:33.586Z"
   },
   {
    "duration": 3,
    "start_time": "2024-09-28T09:25:20.610Z"
   },
   {
    "duration": 17,
    "start_time": "2024-09-28T09:25:50.662Z"
   },
   {
    "duration": 16,
    "start_time": "2024-09-28T09:31:23.068Z"
   },
   {
    "duration": 421,
    "start_time": "2024-09-28T09:31:46.254Z"
   },
   {
    "duration": 844,
    "start_time": "2024-09-28T09:32:05.153Z"
   },
   {
    "duration": 35,
    "start_time": "2024-09-28T09:32:05.999Z"
   },
   {
    "duration": 10,
    "start_time": "2024-09-28T09:32:06.036Z"
   },
   {
    "duration": 6,
    "start_time": "2024-09-28T09:32:06.048Z"
   },
   {
    "duration": 3,
    "start_time": "2024-09-28T09:32:06.056Z"
   },
   {
    "duration": 4,
    "start_time": "2024-09-28T09:32:06.061Z"
   },
   {
    "duration": 3,
    "start_time": "2024-09-28T09:32:06.067Z"
   },
   {
    "duration": 3,
    "start_time": "2024-09-28T09:32:06.072Z"
   },
   {
    "duration": 5,
    "start_time": "2024-09-28T09:32:06.077Z"
   },
   {
    "duration": 42,
    "start_time": "2024-09-28T09:32:06.084Z"
   },
   {
    "duration": 5,
    "start_time": "2024-09-28T09:32:06.128Z"
   },
   {
    "duration": 11,
    "start_time": "2024-09-28T09:32:06.135Z"
   },
   {
    "duration": 127,
    "start_time": "2024-09-28T09:32:06.148Z"
   },
   {
    "duration": 8,
    "start_time": "2024-09-28T09:32:06.277Z"
   },
   {
    "duration": 4,
    "start_time": "2024-09-28T09:32:06.286Z"
   },
   {
    "duration": 5,
    "start_time": "2024-09-28T09:32:06.291Z"
   },
   {
    "duration": 182,
    "start_time": "2024-09-28T09:32:06.297Z"
   },
   {
    "duration": 12,
    "start_time": "2024-09-28T09:32:06.480Z"
   },
   {
    "duration": 91,
    "start_time": "2024-09-28T09:32:06.493Z"
   },
   {
    "duration": 15,
    "start_time": "2024-09-28T09:32:06.586Z"
   },
   {
    "duration": 37,
    "start_time": "2024-09-28T09:32:06.602Z"
   },
   {
    "duration": 323,
    "start_time": "2024-09-28T09:32:06.641Z"
   },
   {
    "duration": 4,
    "start_time": "2024-09-28T09:32:06.966Z"
   },
   {
    "duration": 0,
    "start_time": "2024-09-28T09:32:06.972Z"
   },
   {
    "duration": 0,
    "start_time": "2024-09-28T09:32:06.973Z"
   },
   {
    "duration": 0,
    "start_time": "2024-09-28T09:32:06.975Z"
   },
   {
    "duration": 0,
    "start_time": "2024-09-28T09:32:06.976Z"
   },
   {
    "duration": 0,
    "start_time": "2024-09-28T09:32:06.977Z"
   },
   {
    "duration": 0,
    "start_time": "2024-09-28T09:32:06.978Z"
   },
   {
    "duration": 0,
    "start_time": "2024-09-28T09:32:06.979Z"
   },
   {
    "duration": 0,
    "start_time": "2024-09-28T09:32:06.980Z"
   },
   {
    "duration": 0,
    "start_time": "2024-09-28T09:32:06.981Z"
   },
   {
    "duration": 0,
    "start_time": "2024-09-28T09:32:06.982Z"
   },
   {
    "duration": 0,
    "start_time": "2024-09-28T09:32:06.983Z"
   },
   {
    "duration": 0,
    "start_time": "2024-09-28T09:32:06.984Z"
   },
   {
    "duration": 0,
    "start_time": "2024-09-28T09:32:06.985Z"
   },
   {
    "duration": 0,
    "start_time": "2024-09-28T09:32:06.987Z"
   },
   {
    "duration": 0,
    "start_time": "2024-09-28T09:32:06.988Z"
   },
   {
    "duration": 0,
    "start_time": "2024-09-28T09:32:06.989Z"
   },
   {
    "duration": 0,
    "start_time": "2024-09-28T09:32:06.991Z"
   },
   {
    "duration": 0,
    "start_time": "2024-09-28T09:32:06.991Z"
   },
   {
    "duration": 606,
    "start_time": "2024-09-28T09:32:12.178Z"
   },
   {
    "duration": 42,
    "start_time": "2024-09-28T09:33:26.459Z"
   },
   {
    "duration": 4,
    "start_time": "2024-09-28T09:34:02.181Z"
   },
   {
    "duration": 4,
    "start_time": "2024-09-28T09:34:15.949Z"
   },
   {
    "duration": 16,
    "start_time": "2024-09-28T09:34:57.896Z"
   },
   {
    "duration": 43,
    "start_time": "2024-09-28T09:35:09.521Z"
   },
   {
    "duration": 3,
    "start_time": "2024-09-28T09:35:22.116Z"
   },
   {
    "duration": 43,
    "start_time": "2024-09-28T09:35:44.572Z"
   },
   {
    "duration": 44,
    "start_time": "2024-09-28T09:35:58.658Z"
   },
   {
    "duration": 18,
    "start_time": "2024-09-28T09:36:22.166Z"
   },
   {
    "duration": 9,
    "start_time": "2024-09-28T09:36:34.112Z"
   },
   {
    "duration": 7,
    "start_time": "2024-09-28T09:44:38.089Z"
   },
   {
    "duration": 7,
    "start_time": "2024-09-28T09:46:54.868Z"
   },
   {
    "duration": 8,
    "start_time": "2024-09-28T09:47:15.499Z"
   },
   {
    "duration": 7,
    "start_time": "2024-09-28T09:47:53.362Z"
   },
   {
    "duration": 6,
    "start_time": "2024-09-28T09:48:12.619Z"
   },
   {
    "duration": 7,
    "start_time": "2024-09-28T09:48:20.245Z"
   },
   {
    "duration": 2,
    "start_time": "2024-09-28T09:53:58.652Z"
   },
   {
    "duration": 5,
    "start_time": "2024-09-28T09:58:31.440Z"
   },
   {
    "duration": 784,
    "start_time": "2024-09-28T10:05:18.533Z"
   },
   {
    "duration": 33,
    "start_time": "2024-09-28T10:05:19.320Z"
   },
   {
    "duration": 10,
    "start_time": "2024-09-28T10:05:19.354Z"
   },
   {
    "duration": 6,
    "start_time": "2024-09-28T10:05:19.366Z"
   },
   {
    "duration": 3,
    "start_time": "2024-09-28T10:05:19.375Z"
   },
   {
    "duration": 4,
    "start_time": "2024-09-28T10:05:19.379Z"
   },
   {
    "duration": 4,
    "start_time": "2024-09-28T10:05:19.384Z"
   },
   {
    "duration": 35,
    "start_time": "2024-09-28T10:05:19.389Z"
   },
   {
    "duration": 5,
    "start_time": "2024-09-28T10:05:19.425Z"
   },
   {
    "duration": 3,
    "start_time": "2024-09-28T10:05:19.432Z"
   },
   {
    "duration": 4,
    "start_time": "2024-09-28T10:05:19.437Z"
   },
   {
    "duration": 12,
    "start_time": "2024-09-28T10:05:19.443Z"
   },
   {
    "duration": 133,
    "start_time": "2024-09-28T10:05:19.456Z"
   },
   {
    "duration": 6,
    "start_time": "2024-09-28T10:05:19.593Z"
   },
   {
    "duration": 3,
    "start_time": "2024-09-28T10:05:19.601Z"
   },
   {
    "duration": 19,
    "start_time": "2024-09-28T10:05:19.606Z"
   },
   {
    "duration": 166,
    "start_time": "2024-09-28T10:05:19.627Z"
   },
   {
    "duration": 10,
    "start_time": "2024-09-28T10:05:19.795Z"
   },
   {
    "duration": 94,
    "start_time": "2024-09-28T10:05:19.807Z"
   },
   {
    "duration": 25,
    "start_time": "2024-09-28T10:05:19.902Z"
   },
   {
    "duration": 20,
    "start_time": "2024-09-28T10:05:19.928Z"
   },
   {
    "duration": 338,
    "start_time": "2024-09-28T10:05:19.950Z"
   },
   {
    "duration": 3,
    "start_time": "2024-09-28T10:05:20.291Z"
   },
   {
    "duration": 0,
    "start_time": "2024-09-28T10:05:20.296Z"
   },
   {
    "duration": 0,
    "start_time": "2024-09-28T10:05:20.297Z"
   },
   {
    "duration": 0,
    "start_time": "2024-09-28T10:05:20.298Z"
   },
   {
    "duration": 0,
    "start_time": "2024-09-28T10:05:20.299Z"
   },
   {
    "duration": 0,
    "start_time": "2024-09-28T10:05:20.301Z"
   },
   {
    "duration": 0,
    "start_time": "2024-09-28T10:05:20.302Z"
   },
   {
    "duration": 0,
    "start_time": "2024-09-28T10:05:20.304Z"
   },
   {
    "duration": 0,
    "start_time": "2024-09-28T10:05:20.306Z"
   },
   {
    "duration": 0,
    "start_time": "2024-09-28T10:05:20.307Z"
   },
   {
    "duration": 0,
    "start_time": "2024-09-28T10:05:20.309Z"
   },
   {
    "duration": 0,
    "start_time": "2024-09-28T10:05:20.310Z"
   },
   {
    "duration": 0,
    "start_time": "2024-09-28T10:05:20.324Z"
   },
   {
    "duration": 0,
    "start_time": "2024-09-28T10:05:20.325Z"
   },
   {
    "duration": 0,
    "start_time": "2024-09-28T10:05:20.327Z"
   },
   {
    "duration": 0,
    "start_time": "2024-09-28T10:05:20.328Z"
   },
   {
    "duration": 0,
    "start_time": "2024-09-28T10:05:20.330Z"
   },
   {
    "duration": 0,
    "start_time": "2024-09-28T10:05:20.332Z"
   },
   {
    "duration": 0,
    "start_time": "2024-09-28T10:05:20.333Z"
   },
   {
    "duration": 0,
    "start_time": "2024-09-28T10:05:20.335Z"
   },
   {
    "duration": 9,
    "start_time": "2024-09-28T10:05:26.531Z"
   },
   {
    "duration": 9,
    "start_time": "2024-09-28T10:05:27.178Z"
   },
   {
    "duration": 9,
    "start_time": "2024-09-28T10:05:28.010Z"
   },
   {
    "duration": 784,
    "start_time": "2024-09-28T10:05:39.617Z"
   },
   {
    "duration": 35,
    "start_time": "2024-09-28T10:05:40.403Z"
   },
   {
    "duration": 10,
    "start_time": "2024-09-28T10:05:40.439Z"
   },
   {
    "duration": 6,
    "start_time": "2024-09-28T10:05:40.452Z"
   },
   {
    "duration": 4,
    "start_time": "2024-09-28T10:05:40.460Z"
   },
   {
    "duration": 4,
    "start_time": "2024-09-28T10:05:40.465Z"
   },
   {
    "duration": 4,
    "start_time": "2024-09-28T10:05:40.471Z"
   },
   {
    "duration": 5,
    "start_time": "2024-09-28T10:05:40.476Z"
   },
   {
    "duration": 6,
    "start_time": "2024-09-28T10:05:40.482Z"
   },
   {
    "duration": 3,
    "start_time": "2024-09-28T10:05:40.524Z"
   },
   {
    "duration": 4,
    "start_time": "2024-09-28T10:05:40.530Z"
   },
   {
    "duration": 12,
    "start_time": "2024-09-28T10:05:40.536Z"
   },
   {
    "duration": 128,
    "start_time": "2024-09-28T10:05:40.549Z"
   },
   {
    "duration": 7,
    "start_time": "2024-09-28T10:05:40.679Z"
   },
   {
    "duration": 4,
    "start_time": "2024-09-28T10:05:40.687Z"
   },
   {
    "duration": 5,
    "start_time": "2024-09-28T10:05:40.692Z"
   },
   {
    "duration": 183,
    "start_time": "2024-09-28T10:05:40.698Z"
   },
   {
    "duration": 13,
    "start_time": "2024-09-28T10:05:40.883Z"
   },
   {
    "duration": 97,
    "start_time": "2024-09-28T10:05:40.897Z"
   },
   {
    "duration": 15,
    "start_time": "2024-09-28T10:05:40.996Z"
   },
   {
    "duration": 21,
    "start_time": "2024-09-28T10:05:41.024Z"
   },
   {
    "duration": 338,
    "start_time": "2024-09-28T10:05:41.046Z"
   },
   {
    "duration": 3,
    "start_time": "2024-09-28T10:05:41.386Z"
   },
   {
    "duration": 0,
    "start_time": "2024-09-28T10:05:41.392Z"
   },
   {
    "duration": 0,
    "start_time": "2024-09-28T10:05:41.393Z"
   },
   {
    "duration": 0,
    "start_time": "2024-09-28T10:05:41.395Z"
   },
   {
    "duration": 0,
    "start_time": "2024-09-28T10:05:41.396Z"
   },
   {
    "duration": 0,
    "start_time": "2024-09-28T10:05:41.397Z"
   },
   {
    "duration": 0,
    "start_time": "2024-09-28T10:05:41.398Z"
   },
   {
    "duration": 0,
    "start_time": "2024-09-28T10:05:41.400Z"
   },
   {
    "duration": 0,
    "start_time": "2024-09-28T10:05:41.402Z"
   },
   {
    "duration": 0,
    "start_time": "2024-09-28T10:05:41.403Z"
   },
   {
    "duration": 0,
    "start_time": "2024-09-28T10:05:41.404Z"
   },
   {
    "duration": 0,
    "start_time": "2024-09-28T10:05:41.406Z"
   },
   {
    "duration": 0,
    "start_time": "2024-09-28T10:05:41.407Z"
   },
   {
    "duration": 0,
    "start_time": "2024-09-28T10:05:41.409Z"
   },
   {
    "duration": 0,
    "start_time": "2024-09-28T10:05:41.425Z"
   },
   {
    "duration": 0,
    "start_time": "2024-09-28T10:05:41.426Z"
   },
   {
    "duration": 0,
    "start_time": "2024-09-28T10:05:41.428Z"
   },
   {
    "duration": 0,
    "start_time": "2024-09-28T10:05:41.429Z"
   },
   {
    "duration": 0,
    "start_time": "2024-09-28T10:05:41.431Z"
   },
   {
    "duration": 0,
    "start_time": "2024-09-28T10:05:41.432Z"
   },
   {
    "duration": 9,
    "start_time": "2024-09-28T10:11:12.740Z"
   },
   {
    "duration": 9,
    "start_time": "2024-09-28T10:12:13.512Z"
   },
   {
    "duration": 9,
    "start_time": "2024-09-28T10:13:01.032Z"
   },
   {
    "duration": 9,
    "start_time": "2024-09-28T10:14:19.510Z"
   },
   {
    "duration": 8,
    "start_time": "2024-09-28T10:14:21.488Z"
   },
   {
    "duration": 2659,
    "start_time": "2024-09-28T16:47:31.759Z"
   },
   {
    "duration": 46,
    "start_time": "2024-09-28T16:47:34.420Z"
   },
   {
    "duration": 10,
    "start_time": "2024-09-28T16:47:34.468Z"
   },
   {
    "duration": 9,
    "start_time": "2024-09-28T16:47:34.480Z"
   },
   {
    "duration": 3,
    "start_time": "2024-09-28T16:47:34.492Z"
   },
   {
    "duration": 4,
    "start_time": "2024-09-28T16:47:34.497Z"
   },
   {
    "duration": 4,
    "start_time": "2024-09-28T16:47:34.502Z"
   },
   {
    "duration": 3,
    "start_time": "2024-09-28T16:47:34.509Z"
   },
   {
    "duration": 5,
    "start_time": "2024-09-28T16:47:34.514Z"
   },
   {
    "duration": 3,
    "start_time": "2024-09-28T16:47:34.520Z"
   },
   {
    "duration": 4,
    "start_time": "2024-09-28T16:47:34.525Z"
   },
   {
    "duration": 56,
    "start_time": "2024-09-28T16:47:34.532Z"
   },
   {
    "duration": 121,
    "start_time": "2024-09-28T16:47:34.590Z"
   },
   {
    "duration": 7,
    "start_time": "2024-09-28T16:47:34.716Z"
   },
   {
    "duration": 4,
    "start_time": "2024-09-28T16:47:34.725Z"
   },
   {
    "duration": 3,
    "start_time": "2024-09-28T16:47:34.731Z"
   },
   {
    "duration": 194,
    "start_time": "2024-09-28T16:47:34.735Z"
   },
   {
    "duration": 12,
    "start_time": "2024-09-28T16:47:34.931Z"
   },
   {
    "duration": 50,
    "start_time": "2024-09-28T16:47:34.945Z"
   },
   {
    "duration": 16,
    "start_time": "2024-09-28T16:47:34.998Z"
   },
   {
    "duration": 23,
    "start_time": "2024-09-28T16:47:35.015Z"
   },
   {
    "duration": 347,
    "start_time": "2024-09-28T16:47:35.040Z"
   },
   {
    "duration": 287,
    "start_time": "2024-09-28T16:47:35.389Z"
   },
   {
    "duration": 0,
    "start_time": "2024-09-28T16:47:35.678Z"
   },
   {
    "duration": 0,
    "start_time": "2024-09-28T16:47:35.679Z"
   },
   {
    "duration": 0,
    "start_time": "2024-09-28T16:47:35.686Z"
   },
   {
    "duration": 0,
    "start_time": "2024-09-28T16:47:35.688Z"
   },
   {
    "duration": 0,
    "start_time": "2024-09-28T16:47:35.689Z"
   },
   {
    "duration": 0,
    "start_time": "2024-09-28T16:47:35.691Z"
   },
   {
    "duration": 0,
    "start_time": "2024-09-28T16:47:35.692Z"
   },
   {
    "duration": 0,
    "start_time": "2024-09-28T16:47:35.694Z"
   },
   {
    "duration": 0,
    "start_time": "2024-09-28T16:47:35.695Z"
   },
   {
    "duration": 0,
    "start_time": "2024-09-28T16:47:35.697Z"
   },
   {
    "duration": 0,
    "start_time": "2024-09-28T16:47:35.698Z"
   },
   {
    "duration": 0,
    "start_time": "2024-09-28T16:47:35.700Z"
   },
   {
    "duration": 0,
    "start_time": "2024-09-28T16:47:35.701Z"
   },
   {
    "duration": 0,
    "start_time": "2024-09-28T16:47:35.703Z"
   },
   {
    "duration": 0,
    "start_time": "2024-09-28T16:47:35.704Z"
   },
   {
    "duration": 0,
    "start_time": "2024-09-28T16:47:35.706Z"
   },
   {
    "duration": 0,
    "start_time": "2024-09-28T16:47:35.707Z"
   },
   {
    "duration": 0,
    "start_time": "2024-09-28T16:47:35.709Z"
   },
   {
    "duration": 1,
    "start_time": "2024-09-28T16:47:35.710Z"
   },
   {
    "duration": 0,
    "start_time": "2024-09-28T16:47:35.712Z"
   },
   {
    "duration": 0,
    "start_time": "2024-09-28T16:47:35.714Z"
   },
   {
    "duration": 193,
    "start_time": "2024-09-28T18:10:39.319Z"
   },
   {
    "duration": 817,
    "start_time": "2024-09-28T18:10:51.093Z"
   },
   {
    "duration": 33,
    "start_time": "2024-09-28T18:10:51.913Z"
   },
   {
    "duration": 11,
    "start_time": "2024-09-28T18:10:51.948Z"
   },
   {
    "duration": 8,
    "start_time": "2024-09-28T18:10:51.962Z"
   },
   {
    "duration": 5,
    "start_time": "2024-09-28T18:10:51.972Z"
   },
   {
    "duration": 34,
    "start_time": "2024-09-28T18:10:51.979Z"
   },
   {
    "duration": 4,
    "start_time": "2024-09-28T18:10:52.016Z"
   },
   {
    "duration": 4,
    "start_time": "2024-09-28T18:10:52.022Z"
   },
   {
    "duration": 6,
    "start_time": "2024-09-28T18:10:52.028Z"
   },
   {
    "duration": 3,
    "start_time": "2024-09-28T18:10:52.037Z"
   },
   {
    "duration": 4,
    "start_time": "2024-09-28T18:10:52.042Z"
   },
   {
    "duration": 13,
    "start_time": "2024-09-28T18:10:52.048Z"
   },
   {
    "duration": 158,
    "start_time": "2024-09-28T18:10:52.062Z"
   },
   {
    "duration": 12,
    "start_time": "2024-09-28T18:10:52.223Z"
   },
   {
    "duration": 5,
    "start_time": "2024-09-28T18:10:52.238Z"
   },
   {
    "duration": 4,
    "start_time": "2024-09-28T18:10:52.245Z"
   },
   {
    "duration": 195,
    "start_time": "2024-09-28T18:10:52.250Z"
   },
   {
    "duration": 12,
    "start_time": "2024-09-28T18:10:52.449Z"
   },
   {
    "duration": 96,
    "start_time": "2024-09-28T18:10:52.463Z"
   },
   {
    "duration": 17,
    "start_time": "2024-09-28T18:10:52.561Z"
   },
   {
    "duration": 37,
    "start_time": "2024-09-28T18:10:52.580Z"
   },
   {
    "duration": 354,
    "start_time": "2024-09-28T18:10:52.619Z"
   },
   {
    "duration": 235,
    "start_time": "2024-09-28T18:10:52.975Z"
   },
   {
    "duration": 0,
    "start_time": "2024-09-28T18:10:53.213Z"
   },
   {
    "duration": 0,
    "start_time": "2024-09-28T18:10:53.215Z"
   },
   {
    "duration": 0,
    "start_time": "2024-09-28T18:10:53.217Z"
   },
   {
    "duration": 0,
    "start_time": "2024-09-28T18:10:53.218Z"
   },
   {
    "duration": 0,
    "start_time": "2024-09-28T18:10:53.219Z"
   },
   {
    "duration": 0,
    "start_time": "2024-09-28T18:10:53.221Z"
   },
   {
    "duration": 0,
    "start_time": "2024-09-28T18:10:53.223Z"
   },
   {
    "duration": 0,
    "start_time": "2024-09-28T18:10:53.225Z"
   },
   {
    "duration": 0,
    "start_time": "2024-09-28T18:10:53.227Z"
   },
   {
    "duration": 0,
    "start_time": "2024-09-28T18:10:53.228Z"
   },
   {
    "duration": 0,
    "start_time": "2024-09-28T18:10:53.230Z"
   },
   {
    "duration": 0,
    "start_time": "2024-09-28T18:10:53.231Z"
   },
   {
    "duration": 0,
    "start_time": "2024-09-28T18:10:53.233Z"
   },
   {
    "duration": 0,
    "start_time": "2024-09-28T18:10:53.234Z"
   },
   {
    "duration": 0,
    "start_time": "2024-09-28T18:10:53.236Z"
   },
   {
    "duration": 0,
    "start_time": "2024-09-28T18:10:53.238Z"
   },
   {
    "duration": 0,
    "start_time": "2024-09-28T18:10:53.239Z"
   },
   {
    "duration": 0,
    "start_time": "2024-09-28T18:10:53.241Z"
   },
   {
    "duration": 1,
    "start_time": "2024-09-28T18:10:53.242Z"
   },
   {
    "duration": 0,
    "start_time": "2024-09-28T18:10:53.244Z"
   },
   {
    "duration": 0,
    "start_time": "2024-09-28T18:10:53.246Z"
   },
   {
    "duration": 17,
    "start_time": "2024-09-28T18:11:01.309Z"
   },
   {
    "duration": 5,
    "start_time": "2024-09-28T18:11:15.190Z"
   },
   {
    "duration": 15,
    "start_time": "2024-09-28T18:11:30.987Z"
   },
   {
    "duration": 213,
    "start_time": "2024-09-28T18:11:37.006Z"
   },
   {
    "duration": 25,
    "start_time": "2024-09-28T18:11:44.888Z"
   },
   {
    "duration": 853,
    "start_time": "2024-09-28T18:11:49.249Z"
   },
   {
    "duration": 35,
    "start_time": "2024-09-28T18:11:50.104Z"
   },
   {
    "duration": 13,
    "start_time": "2024-09-28T18:11:50.141Z"
   },
   {
    "duration": 9,
    "start_time": "2024-09-28T18:11:50.155Z"
   },
   {
    "duration": 5,
    "start_time": "2024-09-28T18:11:50.166Z"
   },
   {
    "duration": 4,
    "start_time": "2024-09-28T18:11:50.173Z"
   },
   {
    "duration": 34,
    "start_time": "2024-09-28T18:11:50.178Z"
   },
   {
    "duration": 4,
    "start_time": "2024-09-28T18:11:50.214Z"
   },
   {
    "duration": 6,
    "start_time": "2024-09-28T18:11:50.220Z"
   },
   {
    "duration": 4,
    "start_time": "2024-09-28T18:11:50.228Z"
   },
   {
    "duration": 4,
    "start_time": "2024-09-28T18:11:50.234Z"
   },
   {
    "duration": 15,
    "start_time": "2024-09-28T18:11:50.241Z"
   },
   {
    "duration": 151,
    "start_time": "2024-09-28T18:11:50.258Z"
   },
   {
    "duration": 7,
    "start_time": "2024-09-28T18:11:50.412Z"
   },
   {
    "duration": 5,
    "start_time": "2024-09-28T18:11:50.420Z"
   },
   {
    "duration": 5,
    "start_time": "2024-09-28T18:11:50.427Z"
   },
   {
    "duration": 203,
    "start_time": "2024-09-28T18:11:50.433Z"
   },
   {
    "duration": 12,
    "start_time": "2024-09-28T18:11:50.638Z"
   },
   {
    "duration": 103,
    "start_time": "2024-09-28T18:11:50.652Z"
   },
   {
    "duration": 22,
    "start_time": "2024-09-28T18:11:50.757Z"
   },
   {
    "duration": 41,
    "start_time": "2024-09-28T18:11:50.780Z"
   },
   {
    "duration": 395,
    "start_time": "2024-09-28T18:11:50.822Z"
   },
   {
    "duration": 13,
    "start_time": "2024-09-28T18:11:51.220Z"
   },
   {
    "duration": 203,
    "start_time": "2024-09-28T18:11:51.235Z"
   },
   {
    "duration": 26,
    "start_time": "2024-09-28T18:11:51.439Z"
   },
   {
    "duration": 4,
    "start_time": "2024-09-28T18:11:51.467Z"
   },
   {
    "duration": 159,
    "start_time": "2024-09-28T18:11:51.473Z"
   },
   {
    "duration": 4,
    "start_time": "2024-09-28T18:11:51.634Z"
   },
   {
    "duration": 133,
    "start_time": "2024-09-28T18:11:51.639Z"
   },
   {
    "duration": 3,
    "start_time": "2024-09-28T18:11:51.774Z"
   },
   {
    "duration": 1407,
    "start_time": "2024-09-28T18:11:51.779Z"
   },
   {
    "duration": 21,
    "start_time": "2024-09-28T18:11:53.189Z"
   },
   {
    "duration": 200,
    "start_time": "2024-09-28T18:11:53.212Z"
   },
   {
    "duration": 9,
    "start_time": "2024-09-28T18:11:53.414Z"
   },
   {
    "duration": 9,
    "start_time": "2024-09-28T18:11:53.425Z"
   },
   {
    "duration": 8,
    "start_time": "2024-09-28T18:11:53.436Z"
   },
   {
    "duration": 12,
    "start_time": "2024-09-28T18:11:53.446Z"
   },
   {
    "duration": 9,
    "start_time": "2024-09-28T18:11:53.460Z"
   },
   {
    "duration": 45,
    "start_time": "2024-09-28T18:11:53.471Z"
   },
   {
    "duration": 9,
    "start_time": "2024-09-28T18:11:53.518Z"
   },
   {
    "duration": 8,
    "start_time": "2024-09-28T18:11:53.532Z"
   },
   {
    "duration": 8,
    "start_time": "2024-09-28T18:11:53.542Z"
   },
   {
    "duration": 10,
    "start_time": "2024-09-28T18:11:53.551Z"
   },
   {
    "duration": 9,
    "start_time": "2024-09-28T18:11:53.563Z"
   },
   {
    "duration": 38,
    "start_time": "2024-09-28T18:11:53.574Z"
   },
   {
    "duration": 4,
    "start_time": "2024-09-28T18:27:27.023Z"
   },
   {
    "duration": 43,
    "start_time": "2024-09-28T18:27:27.029Z"
   },
   {
    "duration": 35,
    "start_time": "2024-09-28T18:27:27.074Z"
   },
   {
    "duration": 14,
    "start_time": "2024-09-28T18:27:27.111Z"
   },
   {
    "duration": 5,
    "start_time": "2024-09-28T18:27:27.128Z"
   },
   {
    "duration": 7,
    "start_time": "2024-09-28T18:27:27.135Z"
   },
   {
    "duration": 4,
    "start_time": "2024-09-28T18:27:27.144Z"
   },
   {
    "duration": 4,
    "start_time": "2024-09-28T18:27:27.150Z"
   },
   {
    "duration": 13,
    "start_time": "2024-09-28T18:27:27.156Z"
   },
   {
    "duration": 11,
    "start_time": "2024-09-28T18:27:27.171Z"
   },
   {
    "duration": 26,
    "start_time": "2024-09-28T18:27:27.185Z"
   },
   {
    "duration": 20,
    "start_time": "2024-09-28T18:27:27.214Z"
   },
   {
    "duration": 161,
    "start_time": "2024-09-28T18:27:27.236Z"
   },
   {
    "duration": 15,
    "start_time": "2024-09-28T18:27:27.399Z"
   },
   {
    "duration": 5,
    "start_time": "2024-09-28T18:27:27.415Z"
   },
   {
    "duration": 7,
    "start_time": "2024-09-28T18:27:27.422Z"
   },
   {
    "duration": 200,
    "start_time": "2024-09-28T18:27:27.432Z"
   },
   {
    "duration": 13,
    "start_time": "2024-09-28T18:27:27.633Z"
   },
   {
    "duration": 40,
    "start_time": "2024-09-28T18:27:27.648Z"
   },
   {
    "duration": 20,
    "start_time": "2024-09-28T18:27:27.709Z"
   },
   {
    "duration": 27,
    "start_time": "2024-09-28T18:27:27.734Z"
   },
   {
    "duration": 354,
    "start_time": "2024-09-28T18:27:27.763Z"
   },
   {
    "duration": 15,
    "start_time": "2024-09-28T18:27:28.119Z"
   },
   {
    "duration": 227,
    "start_time": "2024-09-28T18:27:28.137Z"
   },
   {
    "duration": 23,
    "start_time": "2024-09-28T18:27:28.366Z"
   },
   {
    "duration": 4,
    "start_time": "2024-09-28T18:27:28.391Z"
   },
   {
    "duration": 168,
    "start_time": "2024-09-28T18:27:28.410Z"
   },
   {
    "duration": 7,
    "start_time": "2024-09-28T18:27:28.580Z"
   },
   {
    "duration": 174,
    "start_time": "2024-09-28T18:27:28.590Z"
   },
   {
    "duration": 9,
    "start_time": "2024-09-28T18:27:28.770Z"
   },
   {
    "duration": 1756,
    "start_time": "2024-09-28T18:27:28.780Z"
   },
   {
    "duration": 14,
    "start_time": "2024-09-28T18:27:30.538Z"
   },
   {
    "duration": 218,
    "start_time": "2024-09-28T18:27:30.554Z"
   },
   {
    "duration": 10,
    "start_time": "2024-09-28T18:27:30.774Z"
   },
   {
    "duration": 8,
    "start_time": "2024-09-28T18:27:30.786Z"
   },
   {
    "duration": 10,
    "start_time": "2024-09-28T18:27:30.810Z"
   },
   {
    "duration": 11,
    "start_time": "2024-09-28T18:27:30.827Z"
   },
   {
    "duration": 11,
    "start_time": "2024-09-28T18:27:30.840Z"
   },
   {
    "duration": 9,
    "start_time": "2024-09-28T18:27:30.853Z"
   },
   {
    "duration": 9,
    "start_time": "2024-09-28T18:27:30.864Z"
   },
   {
    "duration": 43,
    "start_time": "2024-09-28T18:27:30.875Z"
   },
   {
    "duration": 8,
    "start_time": "2024-09-28T18:27:30.920Z"
   },
   {
    "duration": 9,
    "start_time": "2024-09-28T18:27:30.930Z"
   },
   {
    "duration": 8,
    "start_time": "2024-09-28T18:27:30.941Z"
   },
   {
    "duration": 7,
    "start_time": "2024-09-28T18:27:30.951Z"
   }
  ],
  "kernelspec": {
   "display_name": "base",
   "language": "python",
   "name": "python3"
  },
  "language_info": {
   "codemirror_mode": {
    "name": "ipython",
    "version": 3
   },
   "file_extension": ".py",
   "mimetype": "text/x-python",
   "name": "python",
   "nbconvert_exporter": "python",
   "pygments_lexer": "ipython3",
   "version": "3.12.7"
  },
  "toc": {
   "base_numbering": 1,
   "nav_menu": {},
   "number_sections": true,
   "sideBar": true,
   "skip_h1_title": true,
   "title_cell": "Table of Contents",
   "title_sidebar": "Contents",
   "toc_cell": false,
   "toc_position": {},
   "toc_section_display": true,
   "toc_window_display": false
  }
 },
 "nbformat": 4,
 "nbformat_minor": 2
}
